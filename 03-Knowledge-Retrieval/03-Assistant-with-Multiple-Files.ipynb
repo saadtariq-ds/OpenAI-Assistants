{
 "cells": [
  {
   "cell_type": "markdown",
   "id": "2e9cc75b-40fc-4787-bec4-dfb5d282ab44",
   "metadata": {},
   "source": [
    "## Setup and Import Libraries"
   ]
  },
  {
   "cell_type": "code",
   "execution_count": 1,
   "id": "0e2f0c0d-72ae-4e35-bb1c-79a7e77ecaa5",
   "metadata": {},
   "outputs": [],
   "source": [
    "import os\n",
    "from openai import OpenAI\n",
    "from dotenv import load_dotenv, find_dotenv"
   ]
  },
  {
   "cell_type": "code",
   "execution_count": 2,
   "id": "702a477c-3ebe-451c-8da0-6f84653b0082",
   "metadata": {},
   "outputs": [],
   "source": [
    "_ = load_dotenv(find_dotenv())"
   ]
  },
  {
   "cell_type": "code",
   "execution_count": 3,
   "id": "5c054ca3-e767-4c73-a82a-c1385ab56741",
   "metadata": {},
   "outputs": [],
   "source": [
    "client = OpenAI()"
   ]
  },
  {
   "cell_type": "markdown",
   "id": "32e565d9-e39b-4cfd-afcd-ef709ad33a72",
   "metadata": {},
   "source": [
    "## Creating Files"
   ]
  },
  {
   "cell_type": "code",
   "execution_count": 4,
   "id": "4f404784-3011-40a5-9146-762197eff6d9",
   "metadata": {},
   "outputs": [
    {
     "data": {
      "text/plain": [
       "['.ipynb_checkpoints',\n",
       " 'ACME Advertising Policy.pdf',\n",
       " 'ACME_Dog_Food_Ingredients.pdf',\n",
       " 'Corporate Travel Policy.pdf']"
      ]
     },
     "execution_count": 4,
     "metadata": {},
     "output_type": "execute_result"
    }
   ],
   "source": [
    "os.listdir('Multiple-Files/')"
   ]
  },
  {
   "cell_type": "code",
   "execution_count": 5,
   "id": "c5fe7527-ca91-43e0-83c1-1f9261533651",
   "metadata": {},
   "outputs": [],
   "source": [
    "files_to_upload = [\n",
    "    'ACME Advertising Policy.pdf',\n",
    "    'ACME_Dog_Food_Ingredients.pdf',\n",
    "    'Corporate Travel Policy.pdf'\n",
    "]"
   ]
  },
  {
   "cell_type": "code",
   "execution_count": 6,
   "id": "f731ae7c-4c98-4fc1-9e77-218bac3b8f33",
   "metadata": {},
   "outputs": [],
   "source": [
    "def upload_assistant_files(filename):\n",
    "    file = client.files.create(\n",
    "        file=open(file='Multiple-Files/'+filename, mode='rb'),\n",
    "        purpose='assistants'\n",
    "    )\n",
    "    print(file.id)"
   ]
  },
  {
   "cell_type": "code",
   "execution_count": 7,
   "id": "139ee592-5e6d-4a91-bc7f-57997c87a3c4",
   "metadata": {},
   "outputs": [
    {
     "name": "stdout",
     "output_type": "stream",
     "text": [
      "file-ED8nYba26PjDSKoXcoJvrA\n",
      "file-7CEJpFtYEpy1W9yc1EBhoa\n",
      "file-GUQoBpCXSQyKLPhA7KZWGD\n"
     ]
    }
   ],
   "source": [
    "for file in files_to_upload:\n",
    "    upload_assistant_files(file)"
   ]
  },
  {
   "cell_type": "code",
   "execution_count": 8,
   "id": "2e31117b-3f2d-4b10-986b-89e854bb5bba",
   "metadata": {},
   "outputs": [
    {
     "name": "stdout",
     "output_type": "stream",
     "text": [
      "Corporate Travel Policy.pdf\n",
      "file-GUQoBpCXSQyKLPhA7KZWGD\n",
      "\n",
      "\n",
      "ACME_Dog_Food_Ingredients.pdf\n",
      "file-7CEJpFtYEpy1W9yc1EBhoa\n",
      "\n",
      "\n",
      "ACME Advertising Policy.pdf\n",
      "file-ED8nYba26PjDSKoXcoJvrA\n",
      "\n",
      "\n"
     ]
    }
   ],
   "source": [
    "for file in client.files.list():\n",
    "    print(file.filename)\n",
    "    print(file.id)\n",
    "    print('\\n')"
   ]
  },
  {
   "cell_type": "markdown",
   "id": "d4018cc9-8b31-4081-bb0e-0532f3e7eb6c",
   "metadata": {},
   "source": [
    "## Creating Assistant"
   ]
  },
  {
   "cell_type": "code",
   "execution_count": 9,
   "id": "501b92a3-8d00-4968-a961-ee45f86f3114",
   "metadata": {},
   "outputs": [],
   "source": [
    "assistant_instructions = \"\"\"You answer information about the company based on the PDF documents available in your knowledge base\n",
    "\"\"\""
   ]
  },
  {
   "cell_type": "code",
   "execution_count": 10,
   "id": "0097fccf-a169-4ed2-b1ab-95e520d9a0c3",
   "metadata": {},
   "outputs": [],
   "source": [
    "assistant = client.beta.assistants.create(\n",
    "    name='Stock Visualizer',\n",
    "    instructions=assistant_instructions,\n",
    "    model='gpt-3.5-turbo',\n",
    "    tools=[{'type':'file_search'}],\n",
    ")"
   ]
  },
  {
   "cell_type": "markdown",
   "id": "d88a2352-8761-4e82-bf8e-b87f0e1b03f3",
   "metadata": {},
   "source": [
    "## Creating Thread and Message"
   ]
  },
  {
   "cell_type": "code",
   "execution_count": 11,
   "id": "868462e6-7a2c-4e94-af89-94ec7906a9b7",
   "metadata": {},
   "outputs": [],
   "source": [
    "thread = client.beta.threads.create()"
   ]
  },
  {
   "cell_type": "code",
   "execution_count": 12,
   "id": "aad4cfe1-a717-4276-a110-f6ad9449554e",
   "metadata": {},
   "outputs": [],
   "source": [
    "message = client.beta.threads.messages.create(\n",
    "    thread_id=thread.id,\n",
    "    role='user',\n",
    "    content='Does our dog food allow for artificial ingredients?',\n",
    "    attachments=[\n",
    "        {\"file_id\": \"file-ED8nYba26PjDSKoXcoJvrA\", \"tools\": [{\"type\": \"file_search\"}]},\n",
    "        {\"file_id\": \"file-7CEJpFtYEpy1W9yc1EBhoa\", \"tools\": [{\"type\": \"file_search\"}]},\n",
    "        {\"file_id\": \"file-ED8nYba26PjDSKoXcoJvrA\", \"tools\": [{\"type\": \"file_search\"}]}\n",
    "    ]\n",
    ")"
   ]
  },
  {
   "cell_type": "markdown",
   "id": "5c990952-aad1-46cc-adac-7a7dbf63f054",
   "metadata": {},
   "source": [
    "## Create Run"
   ]
  },
  {
   "cell_type": "code",
   "execution_count": 13,
   "id": "fafc399d-349e-413e-9e9c-faafabad48f2",
   "metadata": {},
   "outputs": [],
   "source": [
    "run = client.beta.threads.runs.create(\n",
    "    thread_id=thread.id,\n",
    "    assistant_id=assistant.id\n",
    ")"
   ]
  },
  {
   "cell_type": "code",
   "execution_count": 14,
   "id": "c5dcecab-a383-41a5-9431-fb1dee503f4e",
   "metadata": {},
   "outputs": [],
   "source": [
    "run = client.beta.threads.runs.retrieve(\n",
    "    thread_id=thread.id,\n",
    "    run_id=run.id,\n",
    ")"
   ]
  },
  {
   "cell_type": "code",
   "execution_count": 15,
   "id": "99464aec-4e25-47fb-ae2b-38ff2a2e3f41",
   "metadata": {},
   "outputs": [
    {
     "data": {
      "text/plain": [
       "'completed'"
      ]
     },
     "execution_count": 15,
     "metadata": {},
     "output_type": "execute_result"
    }
   ],
   "source": [
    "run.status"
   ]
  },
  {
   "cell_type": "markdown",
   "id": "c1eab60b-856f-4439-b447-dc9fb67cf831",
   "metadata": {},
   "source": [
    "## Display Response"
   ]
  },
  {
   "cell_type": "code",
   "execution_count": 16,
   "id": "c8560de9-f26c-4631-ba4c-ab6d2e0d3cec",
   "metadata": {},
   "outputs": [],
   "source": [
    "messages = client.beta.threads.messages.list(\n",
    "    thread_id=thread.id,\n",
    "    order='asc'\n",
    ")"
   ]
  },
  {
   "cell_type": "code",
   "execution_count": 35,
   "id": "6ad9556d-6ff1-4c6b-a121-0121f84dbeac",
   "metadata": {},
   "outputs": [
    {
     "name": "stdout",
     "output_type": "stream",
     "text": [
      "Message(id='msg_6VsFq6JtaSbmOMLwdJrpMUZk', assistant_id=None, attachments=[Attachment(file_id='file-ED8nYba26PjDSKoXcoJvrA', tools=[AttachmentToolAssistantToolsFileSearchTypeOnly(type='file_search')]), Attachment(file_id='file-7CEJpFtYEpy1W9yc1EBhoa', tools=[AttachmentToolAssistantToolsFileSearchTypeOnly(type='file_search')]), Attachment(file_id='file-ED8nYba26PjDSKoXcoJvrA', tools=[AttachmentToolAssistantToolsFileSearchTypeOnly(type='file_search')])], completed_at=None, content=[TextContentBlock(text=Text(annotations=[], value='Does our dog food allow for artificial ingredients?'), type='text')], created_at=1742251763, incomplete_at=None, incomplete_details=None, metadata={}, object='thread.message', role='user', run_id=None, status=None, thread_id='thread_P0udh9kXQDIbVFI5avlsQVD3')\n",
      "\n",
      "\n",
      "Message(id='msg_NuVxj4g8kM0u2OAR384Y19q7', assistant_id='asst_f3O4t51jdpI0p7kirc8sxrSW', attachments=[], completed_at=None, content=[TextContentBlock(text=Text(annotations=[FileCitationAnnotation(end_index=270, file_citation=FileCitation(file_id='file-7CEJpFtYEpy1W9yc1EBhoa'), start_index=258, text='【4:0†source】', type='file_citation')], value=\"The ACME Dog Food Corporation's ingredient policy strictly prohibits the use of artificial colors, flavors, or preservatives in any of their products. They are committed to using 100% all-natural ingredients sourced from meats, vegetables, grains, and fruits【4:0†source】.\"), type='text')], created_at=1742251768, incomplete_at=None, incomplete_details=None, metadata={}, object='thread.message', role='assistant', run_id='run_1FdD8tlX9Wkf3AHVwrVLZbMt', status=None, thread_id='thread_P0udh9kXQDIbVFI5avlsQVD3')\n",
      "\n",
      "\n"
     ]
    }
   ],
   "source": [
    "for message in messages:\n",
    "    print(message)\n",
    "    print(\"\\n\")"
   ]
  },
  {
   "cell_type": "markdown",
   "id": "cfa8377f-c3d8-4d11-8468-be6a08a50b8d",
   "metadata": {},
   "source": [
    "## Passing a File ID to Run"
   ]
  },
  {
   "cell_type": "code",
   "execution_count": 36,
   "id": "4b34ba62-a917-472f-b88c-aa222d5c91c6",
   "metadata": {},
   "outputs": [],
   "source": [
    "run = client.beta.threads.runs.create(\n",
    "    thread_id=thread.id,\n",
    "    assistant_id=assistant.id,\n",
    "    instructions='Use the file with file-id file-7CEJpFtYEpy1W9yc1EBhoa to answer'\n",
    ")"
   ]
  },
  {
   "cell_type": "code",
   "execution_count": 37,
   "id": "8a580265-3367-45cd-b317-8303553e2010",
   "metadata": {},
   "outputs": [],
   "source": [
    "run = client.beta.threads.runs.retrieve(\n",
    "    thread_id=thread.id,\n",
    "    run_id=run.id,\n",
    ")"
   ]
  },
  {
   "cell_type": "code",
   "execution_count": 38,
   "id": "6fbd7400-d70f-4d5e-847d-fcc81302b665",
   "metadata": {},
   "outputs": [
    {
     "data": {
      "text/plain": [
       "'completed'"
      ]
     },
     "execution_count": 38,
     "metadata": {},
     "output_type": "execute_result"
    }
   ],
   "source": [
    "run.status"
   ]
  },
  {
   "cell_type": "code",
   "execution_count": 39,
   "id": "276b84c3-a8d1-49f0-985b-97f59a846a97",
   "metadata": {},
   "outputs": [],
   "source": [
    "messages = client.beta.threads.messages.list(\n",
    "    thread_id=thread.id,\n",
    "    order='asc'\n",
    ")"
   ]
  },
  {
   "cell_type": "code",
   "execution_count": 40,
   "id": "533b109e-d2c0-4070-9a7f-5d8ca4d25e59",
   "metadata": {},
   "outputs": [
    {
     "name": "stdout",
     "output_type": "stream",
     "text": [
      "Message(id='msg_6VsFq6JtaSbmOMLwdJrpMUZk', assistant_id=None, attachments=[Attachment(file_id='file-ED8nYba26PjDSKoXcoJvrA', tools=[AttachmentToolAssistantToolsFileSearchTypeOnly(type='file_search')]), Attachment(file_id='file-7CEJpFtYEpy1W9yc1EBhoa', tools=[AttachmentToolAssistantToolsFileSearchTypeOnly(type='file_search')]), Attachment(file_id='file-ED8nYba26PjDSKoXcoJvrA', tools=[AttachmentToolAssistantToolsFileSearchTypeOnly(type='file_search')])], completed_at=None, content=[TextContentBlock(text=Text(annotations=[], value='Does our dog food allow for artificial ingredients?'), type='text')], created_at=1742251763, incomplete_at=None, incomplete_details=None, metadata={}, object='thread.message', role='user', run_id=None, status=None, thread_id='thread_P0udh9kXQDIbVFI5avlsQVD3')\n",
      "\n",
      "\n",
      "Message(id='msg_NuVxj4g8kM0u2OAR384Y19q7', assistant_id='asst_f3O4t51jdpI0p7kirc8sxrSW', attachments=[], completed_at=None, content=[TextContentBlock(text=Text(annotations=[FileCitationAnnotation(end_index=270, file_citation=FileCitation(file_id='file-7CEJpFtYEpy1W9yc1EBhoa'), start_index=258, text='【4:0†source】', type='file_citation')], value=\"The ACME Dog Food Corporation's ingredient policy strictly prohibits the use of artificial colors, flavors, or preservatives in any of their products. They are committed to using 100% all-natural ingredients sourced from meats, vegetables, grains, and fruits【4:0†source】.\"), type='text')], created_at=1742251768, incomplete_at=None, incomplete_details=None, metadata={}, object='thread.message', role='assistant', run_id='run_1FdD8tlX9Wkf3AHVwrVLZbMt', status=None, thread_id='thread_P0udh9kXQDIbVFI5avlsQVD3')\n",
      "\n",
      "\n",
      "Message(id='msg_USDkhWQ9dX7VVZreqesoeHvc', assistant_id='asst_f3O4t51jdpI0p7kirc8sxrSW', attachments=[], completed_at=None, content=[TextContentBlock(text=Text(annotations=[FileCitationAnnotation(end_index=234, file_citation=FileCitation(file_id='file-7CEJpFtYEpy1W9yc1EBhoa'), start_index=222, text='【4:0†source】', type='file_citation')], value=\"The ACME Dog Food Corporation's policy does not allow for artificial ingredients in their dog food products. They exclusively use all-natural ingredients and prohibit the use of artificial colors, flavors, or preservatives【4:0†source】.\"), type='text')], created_at=1742251838, incomplete_at=None, incomplete_details=None, metadata={}, object='thread.message', role='assistant', run_id='run_oVHHcWWWlFbh3Q6eQRPBa7Gs', status=None, thread_id='thread_P0udh9kXQDIbVFI5avlsQVD3')\n",
      "\n",
      "\n"
     ]
    }
   ],
   "source": [
    "for message in messages:\n",
    "    print(message)\n",
    "    print(\"\\n\")"
   ]
  },
  {
   "cell_type": "markdown",
   "id": "679cec2b-ce8f-4bb1-b13b-1daf29b52582",
   "metadata": {},
   "source": [
    "## Delete Assistant and Files"
   ]
  },
  {
   "cell_type": "code",
   "execution_count": 41,
   "id": "f5aaf9fa-887a-474d-a623-ffd3d65f562c",
   "metadata": {},
   "outputs": [],
   "source": [
    "response = client.beta.assistants.delete(\n",
    "    assistant_id=assistant.id\n",
    ")"
   ]
  },
  {
   "cell_type": "code",
   "execution_count": 42,
   "id": "77804a54-36f6-41ca-a0b1-fdf14efe856c",
   "metadata": {},
   "outputs": [
    {
     "data": {
      "text/plain": [
       "AssistantDeleted(id='asst_f3O4t51jdpI0p7kirc8sxrSW', deleted=True, object='assistant.deleted')"
      ]
     },
     "execution_count": 42,
     "metadata": {},
     "output_type": "execute_result"
    }
   ],
   "source": [
    "response"
   ]
  },
  {
   "cell_type": "code",
   "execution_count": 48,
   "id": "5a9ca0fc-87ea-4937-a31c-5ecf4d5e571e",
   "metadata": {},
   "outputs": [],
   "source": [
    "files = client.files.list()"
   ]
  },
  {
   "cell_type": "code",
   "execution_count": 49,
   "id": "354e1918-e234-48de-a563-47be007a9c99",
   "metadata": {},
   "outputs": [
    {
     "data": {
      "text/plain": [
       "SyncCursorPage[FileObject](data=[FileObject(id='file-7CEJpFtYEpy1W9yc1EBhoa', bytes=35798, created_at=1742251730, filename='ACME_Dog_Food_Ingredients.pdf', object='file', purpose='assistants', status='processed', expires_at=None, status_details=None), FileObject(id='file-ED8nYba26PjDSKoXcoJvrA', bytes=37853, created_at=1742251729, filename='ACME Advertising Policy.pdf', object='file', purpose='assistants', status='processed', expires_at=None, status_details=None)], has_more=False, object='list', first_id='file-7CEJpFtYEpy1W9yc1EBhoa', last_id='file-ED8nYba26PjDSKoXcoJvrA')"
      ]
     },
     "execution_count": 49,
     "metadata": {},
     "output_type": "execute_result"
    }
   ],
   "source": [
    "files"
   ]
  },
  {
   "cell_type": "code",
   "execution_count": 50,
   "id": "0536b580-98b2-4be1-bd54-9c6f9f4422e4",
   "metadata": {},
   "outputs": [
    {
     "name": "stdout",
     "output_type": "stream",
     "text": [
      "File ID: file-7CEJpFtYEpy1W9yc1EBhoa | Filename: ACME_Dog_Food_Ingredients.pdf\n",
      "Deleted: file-7CEJpFtYEpy1W9yc1EBhoa, Response: FileDeleted(id='file-7CEJpFtYEpy1W9yc1EBhoa', deleted=True, object='file')\n",
      "File ID: file-ED8nYba26PjDSKoXcoJvrA | Filename: ACME Advertising Policy.pdf\n",
      "Deleted: file-ED8nYba26PjDSKoXcoJvrA, Response: FileDeleted(id='file-ED8nYba26PjDSKoXcoJvrA', deleted=True, object='file')\n"
     ]
    }
   ],
   "source": [
    "for file in files.data:\n",
    "    print(f\"File ID: {file.id} | Filename: {file.filename}\")\n",
    "    response = client.files.delete(file.id)\n",
    "    print(f\"Deleted: {file.id}, Response: {response}\")"
   ]
  },
  {
   "cell_type": "code",
   "execution_count": null,
   "id": "c9082513-208a-42aa-9c45-e4e58290ed3f",
   "metadata": {},
   "outputs": [],
   "source": []
  }
 ],
 "metadata": {
  "kernelspec": {
   "display_name": "Python 3 (ipykernel)",
   "language": "python",
   "name": "python3"
  },
  "language_info": {
   "codemirror_mode": {
    "name": "ipython",
    "version": 3
   },
   "file_extension": ".py",
   "mimetype": "text/x-python",
   "name": "python",
   "nbconvert_exporter": "python",
   "pygments_lexer": "ipython3",
   "version": "3.11.11"
  }
 },
 "nbformat": 4,
 "nbformat_minor": 5
}
