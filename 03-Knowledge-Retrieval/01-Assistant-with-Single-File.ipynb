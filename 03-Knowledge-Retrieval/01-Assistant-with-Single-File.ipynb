{
 "cells": [
  {
   "cell_type": "markdown",
   "id": "8e3c0c71-8d6f-4627-8b4b-32f8db1e706d",
   "metadata": {},
   "source": [
    "## Setup and Import Libraries"
   ]
  },
  {
   "cell_type": "code",
   "execution_count": 1,
   "id": "44fe6327-c910-4398-8f6d-9e19f0c9d850",
   "metadata": {},
   "outputs": [],
   "source": [
    "from openai import OpenAI\n",
    "from dotenv import load_dotenv, find_dotenv"
   ]
  },
  {
   "cell_type": "code",
   "execution_count": 2,
   "id": "21921382-0b52-43e6-87d9-1c75f1be10a2",
   "metadata": {},
   "outputs": [],
   "source": [
    "_ = load_dotenv(find_dotenv())"
   ]
  },
  {
   "cell_type": "code",
   "execution_count": 3,
   "id": "b499e8a2-f7af-4f05-9e08-624f1b280e53",
   "metadata": {},
   "outputs": [],
   "source": [
    "client = OpenAI()"
   ]
  },
  {
   "cell_type": "markdown",
   "id": "5900ac18-002d-4437-a191-1227df7c5480",
   "metadata": {},
   "source": [
    "## Creating File"
   ]
  },
  {
   "cell_type": "code",
   "execution_count": 4,
   "id": "675ff66a-bb08-4b4f-bfc5-c6ea9a4781d6",
   "metadata": {},
   "outputs": [],
   "source": [
    "filename = \"Wonka Chocolate Facility Rules.pdf\""
   ]
  },
  {
   "cell_type": "code",
   "execution_count": 5,
   "id": "993df4dc-e70e-4198-b20b-dbf64b6ac2e4",
   "metadata": {},
   "outputs": [],
   "source": [
    "file = client.files.create(\n",
    "    file=open(file=filename, mode='rb'),\n",
    "    purpose='assistants'\n",
    ")"
   ]
  },
  {
   "cell_type": "code",
   "execution_count": 6,
   "id": "65bcdae0-5a4f-4d59-b04b-3a442573e132",
   "metadata": {},
   "outputs": [
    {
     "data": {
      "text/plain": [
       "'file-LDhyz5M15ex1ciUVKuDsEd'"
      ]
     },
     "execution_count": 6,
     "metadata": {},
     "output_type": "execute_result"
    }
   ],
   "source": [
    "file.id"
   ]
  },
  {
   "cell_type": "code",
   "execution_count": 7,
   "id": "f5186701-449a-4a7a-bd4c-9bd7429ec792",
   "metadata": {},
   "outputs": [
    {
     "data": {
      "text/plain": [
       "FileObject(id='file-LDhyz5M15ex1ciUVKuDsEd', bytes=38968, created_at=1742247405, filename='Wonka Chocolate Facility Rules.pdf', object='file', purpose='assistants', status='processed', expires_at=None, status_details=None)"
      ]
     },
     "execution_count": 7,
     "metadata": {},
     "output_type": "execute_result"
    }
   ],
   "source": [
    "file"
   ]
  },
  {
   "cell_type": "code",
   "execution_count": 8,
   "id": "1bf3f0e4-58d5-4613-9381-1504e5b97a46",
   "metadata": {},
   "outputs": [
    {
     "name": "stdout",
     "output_type": "stream",
     "text": [
      "file-LDhyz5M15ex1ciUVKuDsEd Wonka Chocolate Facility Rules.pdf\n"
     ]
    }
   ],
   "source": [
    "for file in client.files.list():\n",
    "    print(file.id, file.filename)"
   ]
  },
  {
   "cell_type": "markdown",
   "id": "0d59efd0-b93d-4017-b69c-7b4c3ebe276c",
   "metadata": {},
   "source": [
    "## Creating Assistant"
   ]
  },
  {
   "cell_type": "code",
   "execution_count": 11,
   "id": "a7cca09a-2bda-4c7c-b11b-7d3609ada1d1",
   "metadata": {},
   "outputs": [],
   "source": [
    "assistant = client.beta.assistants.create(\n",
    "    name='Rules Explainer',\n",
    "    instructions='You answer information about rules based on your knowledge base of PDF files',\n",
    "    model='gpt-3.5-turbo',\n",
    "    tools=[{'type':'file_search'}]\n",
    ")"
   ]
  },
  {
   "cell_type": "markdown",
   "id": "f0d6b9b7-0e3b-453e-87dd-bae159a56912",
   "metadata": {},
   "source": [
    "## Creating Thread and Message"
   ]
  },
  {
   "cell_type": "code",
   "execution_count": 12,
   "id": "a5bd44a9-2e2f-4a61-a3e3-9953b402ea0b",
   "metadata": {},
   "outputs": [],
   "source": [
    "thread = client.beta.threads.create()"
   ]
  },
  {
   "cell_type": "code",
   "execution_count": 15,
   "id": "b0d10eb4-4c27-40ed-b96c-5dc41d3fde65",
   "metadata": {},
   "outputs": [],
   "source": [
    "message = client.beta.threads.messages.create(\n",
    "    thread_id=thread.id,\n",
    "    role='user',\n",
    "    content='Can I bring my cat to the Wonka Chocolate Facility?',\n",
    "    attachments=[{\"file_id\": file.id, \"tools\": [{\"type\": \"file_search\"}]}]\n",
    ")"
   ]
  },
  {
   "cell_type": "markdown",
   "id": "44134fb1-11d8-429c-9862-ad3a9e96f35b",
   "metadata": {},
   "source": [
    "## Create Run"
   ]
  },
  {
   "cell_type": "code",
   "execution_count": 16,
   "id": "33d99c79-90ec-4baa-b62e-4e23ee1c2cd7",
   "metadata": {},
   "outputs": [],
   "source": [
    "run = client.beta.threads.runs.create(\n",
    "    thread_id=thread.id,\n",
    "    assistant_id=assistant.id\n",
    ")"
   ]
  },
  {
   "cell_type": "code",
   "execution_count": 17,
   "id": "4a705de1-03d7-416b-a27e-b768be3d89b3",
   "metadata": {},
   "outputs": [],
   "source": [
    "run = client.beta.threads.runs.retrieve(\n",
    "    thread_id=thread.id,\n",
    "    run_id=run.id,\n",
    ")"
   ]
  },
  {
   "cell_type": "code",
   "execution_count": 18,
   "id": "ed757a40-cc98-44da-bd91-b44ee998e5de",
   "metadata": {},
   "outputs": [
    {
     "data": {
      "text/plain": [
       "'completed'"
      ]
     },
     "execution_count": 18,
     "metadata": {},
     "output_type": "execute_result"
    }
   ],
   "source": [
    "run.status"
   ]
  },
  {
   "cell_type": "markdown",
   "id": "72b4b36b-fa33-4d5c-a908-119228aaf346",
   "metadata": {},
   "source": [
    "## Display Response"
   ]
  },
  {
   "cell_type": "code",
   "execution_count": 19,
   "id": "32c3a6ec-ccd4-44b8-958b-e81fbf995c4a",
   "metadata": {},
   "outputs": [],
   "source": [
    "messages = client.beta.threads.messages.list(\n",
    "    thread_id=thread.id,\n",
    "    order='asc'\n",
    ")"
   ]
  },
  {
   "cell_type": "code",
   "execution_count": 20,
   "id": "ec401745-d676-4584-9265-3d1593d77794",
   "metadata": {},
   "outputs": [],
   "source": [
    "def display_thread_messages(messages):\n",
    "    for thread_message in messages.data:\n",
    "        print(thread_message.content[0].text.value)\n",
    "        print(\"\\n\")"
   ]
  },
  {
   "cell_type": "code",
   "execution_count": 21,
   "id": "45141324-12f4-439a-a8c5-ab8226fb3441",
   "metadata": {},
   "outputs": [
    {
     "name": "stdout",
     "output_type": "stream",
     "text": [
      "Can I bring my cat to the Wonka Chocolate Facility?\n",
      "\n",
      "\n",
      "Only guide dogs are allowed on the premises of the Wonka Chocolate Facility. Guide dogs must be properly trained and housebroken, owners must be in control of them at all times, and they should not be disruptive or aggressive. Additionally, guide dogs must wear a harness or vest clearly identifying them as guide dogs, and their owners are responsible for cleaning up after them【4:0†source】.\n",
      "\n",
      "\n"
     ]
    }
   ],
   "source": [
    "display_thread_messages(messages=messages)"
   ]
  },
  {
   "cell_type": "code",
   "execution_count": 23,
   "id": "29d2e934-b920-4ae0-9c93-dcfa1f3ba444",
   "metadata": {},
   "outputs": [
    {
     "name": "stdout",
     "output_type": "stream",
     "text": [
      "Message(id='msg_5sY8gUdiSIek62d1xe8MLi7T', assistant_id=None, attachments=[Attachment(file_id='file-LDhyz5M15ex1ciUVKuDsEd', tools=[AttachmentToolAssistantToolsFileSearchTypeOnly(type='file_search')])], completed_at=None, content=[TextContentBlock(text=Text(annotations=[], value='Can I bring my cat to the Wonka Chocolate Facility?'), type='text')], created_at=1742248222, incomplete_at=None, incomplete_details=None, metadata={}, object='thread.message', role='user', run_id=None, status=None, thread_id='thread_rkXP1ihNKQQcvaE74l1QpZYL')\n",
      "\n",
      "\n",
      "Message(id='msg_SVtinjxHuSEOrlPA9Q0CUD4G', assistant_id='asst_mFwoCTFTatTYFdYCpW8udizY', attachments=[], completed_at=None, content=[TextContentBlock(text=Text(annotations=[FileCitationAnnotation(end_index=391, file_citation=FileCitation(file_id='file-LDhyz5M15ex1ciUVKuDsEd'), start_index=379, text='【4:0†source】', type='file_citation')], value='Only guide dogs are allowed on the premises of the Wonka Chocolate Facility. Guide dogs must be properly trained and housebroken, owners must be in control of them at all times, and they should not be disruptive or aggressive. Additionally, guide dogs must wear a harness or vest clearly identifying them as guide dogs, and their owners are responsible for cleaning up after them【4:0†source】.'), type='text')], created_at=1742248269, incomplete_at=None, incomplete_details=None, metadata={}, object='thread.message', role='assistant', run_id='run_0YrBUTbW3judAZiJW57x4E4K', status=None, thread_id='thread_rkXP1ihNKQQcvaE74l1QpZYL')\n",
      "\n",
      "\n"
     ]
    }
   ],
   "source": [
    "for message in messages:\n",
    "    print(message)\n",
    "    print(\"\\n\")"
   ]
  },
  {
   "cell_type": "code",
   "execution_count": 29,
   "id": "7b9177a1-4772-44ff-951e-0c925f2ff57d",
   "metadata": {},
   "outputs": [
    {
     "data": {
      "text/plain": [
       "FileCitationAnnotation(end_index=391, file_citation=FileCitation(file_id='file-LDhyz5M15ex1ciUVKuDsEd'), start_index=379, text='【4:0†source】', type='file_citation')"
      ]
     },
     "execution_count": 29,
     "metadata": {},
     "output_type": "execute_result"
    }
   ],
   "source": [
    "message.content[0].text.annotations[0]"
   ]
  },
  {
   "cell_type": "code",
   "execution_count": 30,
   "id": "6fb01a05-54ed-4744-81cb-437410c48fa2",
   "metadata": {},
   "outputs": [
    {
     "data": {
      "text/plain": [
       "'Only guide dogs are allowed on the premises of the Wonka Chocolate Facility. Guide dogs must be properly trained and housebroken, owners must be in control of them at all times, and they should not be disruptive or aggressive. Additionally, guide dogs must wear a harness or vest clearly identifying them as guide dogs, and their owners are responsible for cleaning up after them【4:0†source】.'"
      ]
     },
     "execution_count": 30,
     "metadata": {},
     "output_type": "execute_result"
    }
   ],
   "source": [
    "message.content[0].text.value"
   ]
  },
  {
   "cell_type": "markdown",
   "id": "92607076-1ef4-43db-ab06-1a9a932d8976",
   "metadata": {},
   "source": [
    "## Delete Assistant"
   ]
  },
  {
   "cell_type": "code",
   "execution_count": 31,
   "id": "7dcf4b65-9748-4152-9f03-ae1c43310140",
   "metadata": {},
   "outputs": [],
   "source": [
    "response = client.beta.assistants.delete(\n",
    "    assistant_id=assistant.id\n",
    ")"
   ]
  },
  {
   "cell_type": "code",
   "execution_count": 32,
   "id": "4681e73a-691d-4c06-8beb-05a625f21693",
   "metadata": {},
   "outputs": [
    {
     "data": {
      "text/plain": [
       "AssistantDeleted(id='asst_mFwoCTFTatTYFdYCpW8udizY', deleted=True, object='assistant.deleted')"
      ]
     },
     "execution_count": 32,
     "metadata": {},
     "output_type": "execute_result"
    }
   ],
   "source": [
    "response"
   ]
  }
 ],
 "metadata": {
  "kernelspec": {
   "display_name": "Python 3 (ipykernel)",
   "language": "python",
   "name": "python3"
  },
  "language_info": {
   "codemirror_mode": {
    "name": "ipython",
    "version": 3
   },
   "file_extension": ".py",
   "mimetype": "text/x-python",
   "name": "python",
   "nbconvert_exporter": "python",
   "pygments_lexer": "ipython3",
   "version": "3.11.11"
  }
 },
 "nbformat": 4,
 "nbformat_minor": 5
}
