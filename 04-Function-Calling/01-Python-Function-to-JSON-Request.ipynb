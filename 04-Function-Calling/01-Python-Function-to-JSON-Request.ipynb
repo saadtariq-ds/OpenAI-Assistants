{
 "cells": [
  {
   "cell_type": "markdown",
   "id": "bc08d85b-eff3-4200-b426-7b3b31c55ddd",
   "metadata": {},
   "source": [
    "## Setup and Import Libraries"
   ]
  },
  {
   "cell_type": "code",
   "execution_count": 1,
   "id": "c58da1c8-67b7-4211-b6df-5311e08b81ae",
   "metadata": {},
   "outputs": [],
   "source": [
    "from openai import OpenAI\n",
    "from dotenv import load_dotenv, find_dotenv"
   ]
  },
  {
   "cell_type": "code",
   "execution_count": 2,
   "id": "fb7e1b17-c1fb-460a-ad99-c6bd5688427d",
   "metadata": {},
   "outputs": [],
   "source": [
    "_ = load_dotenv(find_dotenv())"
   ]
  },
  {
   "cell_type": "code",
   "execution_count": 3,
   "id": "458293a2-685a-4b8a-8fc4-dc798c5c4b70",
   "metadata": {},
   "outputs": [],
   "source": [
    "client = OpenAI()"
   ]
  },
  {
   "cell_type": "markdown",
   "id": "b050fb8b-c3c3-4d06-b496-909abea52d2f",
   "metadata": {},
   "source": [
    "## Defining Custom Functions"
   ]
  },
  {
   "cell_type": "code",
   "execution_count": 4,
   "id": "5f589998-d7c5-49c2-a035-c67d222faaa5",
   "metadata": {},
   "outputs": [],
   "source": [
    "def word_definition_quiz(word, definition_options):\n",
    "    print(\"Welcome to the word definition quiz\")\n",
    "    print(f\"What is the correct definition of this word: {word}\")\n",
    "\n",
    "    for num, option in enumerate(definition_options):\n",
    "        print('\\n')\n",
    "        print(f'Definition #{num} is {option}')\n",
    "\n",
    "    print('\\n')\n",
    "\n",
    "    num_choice = input(\"What is your choice? Return the #Num Option\")\n",
    "    return definition_options[int(num_choice)]"
   ]
  },
  {
   "cell_type": "code",
   "execution_count": 5,
   "id": "0ccbf055-5fe6-4f18-855a-ee2df89c1337",
   "metadata": {},
   "outputs": [],
   "source": [
    "word = 'hello'\n",
    "definition_options = ['greeting', 'farewell', 'sandwich']"
   ]
  },
  {
   "cell_type": "code",
   "execution_count": 7,
   "id": "4312156f-8652-469a-9a67-24f3c7dfa3a0",
   "metadata": {},
   "outputs": [
    {
     "name": "stdout",
     "output_type": "stream",
     "text": [
      "Welcome to the word definition quiz\n",
      "What is the correct definition of this word: hello\n",
      "\n",
      "\n",
      "Definition #0 is greeting\n",
      "\n",
      "\n",
      "Definition #1 is farewell\n",
      "\n",
      "\n",
      "Definition #2 is sandwich\n",
      "\n",
      "\n"
     ]
    },
    {
     "name": "stdin",
     "output_type": "stream",
     "text": [
      "What is your choice? Return the #Num Option 0\n"
     ]
    },
    {
     "data": {
      "text/plain": [
       "'greeting'"
      ]
     },
     "execution_count": 7,
     "metadata": {},
     "output_type": "execute_result"
    }
   ],
   "source": [
    "word_definition_quiz(word=word, definition_options=definition_options)"
   ]
  },
  {
   "cell_type": "markdown",
   "id": "07092910-3891-4db3-b121-2e6b0f035c3a",
   "metadata": {},
   "source": [
    "## Convert Function to JSON Request"
   ]
  },
  {
   "cell_type": "code",
   "execution_count": 8,
   "id": "f3213b27-6839-413c-8d8b-160bcd5b167f",
   "metadata": {},
   "outputs": [],
   "source": [
    "function_json = {\n",
    "    'type':'function',\n",
    "    'function':{\n",
    "        'name':'word_definition_quiz',\n",
    "        'parameters':{\n",
    "            'type':'object',\n",
    "            'properties':{\n",
    "                'word':{\n",
    "                    'type':'string',\n",
    "                    'description':'A random word'\n",
    "                },\n",
    "                'definition_options':{\n",
    "                    'type':'array', \n",
    "                    'item': {\n",
    "                        'type':'string'\n",
    "                    },\n",
    "                    'description':'A python list of strings of definitions, where only one is the correct definition for the word'\n",
    "                },\n",
    "            },\n",
    "            'required':['word', 'definition_options'],\n",
    "        }\n",
    "    }\n",
    "}"
   ]
  },
  {
   "cell_type": "code",
   "execution_count": null,
   "id": "7ee16f36-4458-4ff5-ae4a-e33031138295",
   "metadata": {},
   "outputs": [],
   "source": []
  }
 ],
 "metadata": {
  "kernelspec": {
   "display_name": "Python 3 (ipykernel)",
   "language": "python",
   "name": "python3"
  },
  "language_info": {
   "codemirror_mode": {
    "name": "ipython",
    "version": 3
   },
   "file_extension": ".py",
   "mimetype": "text/x-python",
   "name": "python",
   "nbconvert_exporter": "python",
   "pygments_lexer": "ipython3",
   "version": "3.11.11"
  }
 },
 "nbformat": 4,
 "nbformat_minor": 5
}
