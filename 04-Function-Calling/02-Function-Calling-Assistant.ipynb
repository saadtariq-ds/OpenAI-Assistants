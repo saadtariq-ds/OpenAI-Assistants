{
 "cells": [
  {
   "cell_type": "markdown",
   "id": "bc08d85b-eff3-4200-b426-7b3b31c55ddd",
   "metadata": {},
   "source": [
    "## Setup and Import Libraries"
   ]
  },
  {
   "cell_type": "code",
   "execution_count": 24,
   "id": "c58da1c8-67b7-4211-b6df-5311e08b81ae",
   "metadata": {},
   "outputs": [],
   "source": [
    "from openai import OpenAI\n",
    "from dotenv import load_dotenv, find_dotenv\n",
    "import time\n",
    "import json"
   ]
  },
  {
   "cell_type": "code",
   "execution_count": 2,
   "id": "fb7e1b17-c1fb-460a-ad99-c6bd5688427d",
   "metadata": {},
   "outputs": [],
   "source": [
    "_ = load_dotenv(find_dotenv())"
   ]
  },
  {
   "cell_type": "code",
   "execution_count": 3,
   "id": "458293a2-685a-4b8a-8fc4-dc798c5c4b70",
   "metadata": {},
   "outputs": [],
   "source": [
    "client = OpenAI()"
   ]
  },
  {
   "cell_type": "markdown",
   "id": "b050fb8b-c3c3-4d06-b496-909abea52d2f",
   "metadata": {},
   "source": [
    "## Defining Custom Functions"
   ]
  },
  {
   "cell_type": "code",
   "execution_count": 4,
   "id": "5f589998-d7c5-49c2-a035-c67d222faaa5",
   "metadata": {},
   "outputs": [],
   "source": [
    "def word_definition_quiz(word, definition_options):\n",
    "    print(\"Welcome to the word definition quiz\")\n",
    "    print(f\"What is the correct definition of this word: {word}\")\n",
    "\n",
    "    for num, option in enumerate(definition_options):\n",
    "        print('\\n')\n",
    "        print(f'Definition #{num} is {option}')\n",
    "\n",
    "    print('\\n')\n",
    "\n",
    "    num_choice = input(\"What is your choice? Return the #Num Option\")\n",
    "    return definition_options[int(num_choice)]"
   ]
  },
  {
   "cell_type": "code",
   "execution_count": 5,
   "id": "0ccbf055-5fe6-4f18-855a-ee2df89c1337",
   "metadata": {},
   "outputs": [],
   "source": [
    "word = 'hello'\n",
    "definition_options = ['greeting', 'farewell', 'sandwich']"
   ]
  },
  {
   "cell_type": "code",
   "execution_count": 6,
   "id": "4312156f-8652-469a-9a67-24f3c7dfa3a0",
   "metadata": {},
   "outputs": [
    {
     "name": "stdout",
     "output_type": "stream",
     "text": [
      "Welcome to the word definition quiz\n",
      "What is the correct definition of this word: hello\n",
      "\n",
      "\n",
      "Definition #0 is greeting\n",
      "\n",
      "\n",
      "Definition #1 is farewell\n",
      "\n",
      "\n",
      "Definition #2 is sandwich\n",
      "\n",
      "\n"
     ]
    },
    {
     "name": "stdin",
     "output_type": "stream",
     "text": [
      "What is your choice? Return the #Num Option 0\n"
     ]
    },
    {
     "data": {
      "text/plain": [
       "'greeting'"
      ]
     },
     "execution_count": 6,
     "metadata": {},
     "output_type": "execute_result"
    }
   ],
   "source": [
    "word_definition_quiz(word=word, definition_options=definition_options)"
   ]
  },
  {
   "cell_type": "markdown",
   "id": "07092910-3891-4db3-b121-2e6b0f035c3a",
   "metadata": {},
   "source": [
    "## Convert Function to JSON Request"
   ]
  },
  {
   "cell_type": "code",
   "execution_count": 7,
   "id": "f3213b27-6839-413c-8d8b-160bcd5b167f",
   "metadata": {},
   "outputs": [],
   "source": [
    "function_json = {\n",
    "    \"type\": \"function\",\n",
    "    \"function\": {\n",
    "        \"name\": \"word_definition_quiz\",\n",
    "        \"parameters\": {\n",
    "            \"type\": \"object\",\n",
    "            \"properties\": {\n",
    "                \"word\": {\n",
    "                    \"type\": \"string\",\n",
    "                    \"description\": \"A random word\"\n",
    "                },\n",
    "                \"definition_options\": {\n",
    "                    \"type\": \"array\",\n",
    "                    \"items\": {\n",
    "                        \"type\": \"string\"\n",
    "                    },\n",
    "                    \"description\": \"A Python list of strings of definitions, where only one is the correct definition for the word\"\n",
    "                }\n",
    "            },\n",
    "            \"required\": [\"word\", \"definition_options\"]\n",
    "        }\n",
    "    }\n",
    "}"
   ]
  },
  {
   "cell_type": "markdown",
   "id": "cff0a976-08a5-4945-a293-5fdf4e8bcfe2",
   "metadata": {},
   "source": [
    "## Creating Asssitant"
   ]
  },
  {
   "cell_type": "code",
   "execution_count": 8,
   "id": "8a444228-7c74-4e42-a367-4915c996779d",
   "metadata": {},
   "outputs": [],
   "source": [
    "assistant_instructions = \"\"\" You help create a quiz for checking definitions of words, providing a word and then multiple\n",
    "definition options, where only one option is correct\n",
    "\"\"\"\n",
    "\n",
    "assistant_name = \"Word Definition Quiz Creator\""
   ]
  },
  {
   "cell_type": "code",
   "execution_count": 9,
   "id": "4e445d3e-95fb-4d01-9db6-597d09af4a4a",
   "metadata": {},
   "outputs": [],
   "source": [
    "assistant = client.beta.assistants.create(\n",
    "    name=assistant_name,\n",
    "    instructions=assistant_instructions,\n",
    "    model='gpt-3.5-turbo',\n",
    "    tools=[function_json]\n",
    ")"
   ]
  },
  {
   "cell_type": "markdown",
   "id": "8b8e1d99-8890-4be8-b179-26c000b7ba5f",
   "metadata": {},
   "source": [
    "## Creating Thread and Message"
   ]
  },
  {
   "cell_type": "code",
   "execution_count": 10,
   "id": "3f4864ef-b8b5-43a6-a52b-d5842d5babe9",
   "metadata": {},
   "outputs": [],
   "source": [
    "thread = client.beta.threads.create()"
   ]
  },
  {
   "cell_type": "code",
   "execution_count": 11,
   "id": "9e7c58ae-754c-47ad-bfb8-462103e0c42d",
   "metadata": {},
   "outputs": [],
   "source": [
    "message = client.beta.threads.messages.create(\n",
    "    thread_id=thread.id,\n",
    "    role='user',\n",
    "    content='Create a new quiz question word and definition list. Then let me know if the student answer received is correct',\n",
    ")"
   ]
  },
  {
   "cell_type": "markdown",
   "id": "616c0782-8543-432a-bc0e-65a8c43ef424",
   "metadata": {},
   "source": [
    "## Creating Run"
   ]
  },
  {
   "cell_type": "code",
   "execution_count": 12,
   "id": "42cb6c2b-9b84-4600-9a2a-80245d8a0464",
   "metadata": {},
   "outputs": [],
   "source": [
    "def wait_on_run(run, thread):\n",
    "    while run.status == \"queued\" or run.status == \"in_progress\":\n",
    "        run = client.beta.threads.runs.retrieve(\n",
    "            thread_id=thread.id,\n",
    "            run_id=run.id\n",
    "        )\n",
    "        print(run.status)\n",
    "        time.sleep(1)\n",
    "\n",
    "    return run"
   ]
  },
  {
   "cell_type": "code",
   "execution_count": 13,
   "id": "6372e6b2-9bf9-4006-9e78-644ffc1f4bdc",
   "metadata": {},
   "outputs": [],
   "source": [
    "run = client.beta.threads.runs.create(\n",
    "    thread_id=thread.id,\n",
    "    assistant_id=assistant.id\n",
    ")"
   ]
  },
  {
   "cell_type": "code",
   "execution_count": 14,
   "id": "a60468b2-c92c-4c4d-8bf7-19be787f1c4b",
   "metadata": {},
   "outputs": [
    {
     "name": "stdout",
     "output_type": "stream",
     "text": [
      "in_progress\n",
      "requires_action\n"
     ]
    },
    {
     "data": {
      "text/plain": [
       "Run(id='run_5dEa843BlgS7DhuWbkUA5BSv', assistant_id='asst_RUs2bZkxEZRSK8fSecduQaqV', cancelled_at=None, completed_at=None, created_at=1742338160, expires_at=1742338760, failed_at=None, incomplete_details=None, instructions=' You help create a quiz for checking definitions of words, providing a word and then multiple\\ndefinition options, where only one option is correct\\n', last_error=None, max_completion_tokens=None, max_prompt_tokens=None, metadata={}, model='gpt-3.5-turbo', object='thread.run', parallel_tool_calls=True, required_action=RequiredAction(submit_tool_outputs=RequiredActionSubmitToolOutputs(tool_calls=[RequiredActionFunctionToolCall(id='call_9Nfoh9alfmjUrwtmiG4syULn', function=Function(arguments='{\"word\":\"meticulous\",\"definition_options\":[\"showing great attention to detail\",\"lacking care or attention to detail\",\"acting hastily without thought\",\"showing preference for big picture over details\"]}', name='word_definition_quiz'), type='function')]), type='submit_tool_outputs'), response_format='auto', started_at=1742338160, status='requires_action', thread_id='thread_yGZBRQvXp8BJg01yRIAEzvLj', tool_choice='auto', tools=[FunctionTool(function=FunctionDefinition(name='word_definition_quiz', description=None, parameters={'type': 'object', 'properties': {'word': {'type': 'string', 'description': 'A random word'}, 'definition_options': {'type': 'array', 'items': {'type': 'string'}, 'description': 'A Python list of strings of definitions, where only one is the correct definition for the word'}}, 'required': ['word', 'definition_options']}, strict=False), type='function')], truncation_strategy=TruncationStrategy(type='auto', last_messages=None), usage=None, temperature=1.0, top_p=1.0, tool_resources={}, reasoning_effort=None)"
      ]
     },
     "execution_count": 14,
     "metadata": {},
     "output_type": "execute_result"
    }
   ],
   "source": [
    "wait_on_run(run=run, thread=thread)"
   ]
  },
  {
   "cell_type": "code",
   "execution_count": 18,
   "id": "05a74b7e-a9ac-46c0-94cd-4751356ad6c9",
   "metadata": {},
   "outputs": [
    {
     "name": "stdout",
     "output_type": "stream",
     "text": [
      "requires_action\n"
     ]
    }
   ],
   "source": [
    "run = wait_on_run(run=run, thread=thread)"
   ]
  },
  {
   "cell_type": "code",
   "execution_count": 19,
   "id": "c5efca10-6d9b-4e9e-9e9d-7b685d58ddee",
   "metadata": {},
   "outputs": [
    {
     "data": {
      "text/plain": [
       "'requires_action'"
      ]
     },
     "execution_count": 19,
     "metadata": {},
     "output_type": "execute_result"
    }
   ],
   "source": [
    "run.status"
   ]
  },
  {
   "cell_type": "code",
   "execution_count": 20,
   "id": "90eb7178-614d-446f-9ad0-92a75ad475f2",
   "metadata": {},
   "outputs": [],
   "source": [
    "tool_call = run.required_action.submit_tool_outputs.tool_calls[0]"
   ]
  },
  {
   "cell_type": "code",
   "execution_count": 22,
   "id": "5506922a-e6db-4e81-b838-9012682376bb",
   "metadata": {},
   "outputs": [
    {
     "data": {
      "text/plain": [
       "'word_definition_quiz'"
      ]
     },
     "execution_count": 22,
     "metadata": {},
     "output_type": "execute_result"
    }
   ],
   "source": [
    "name = tool_call.function.name\n",
    "name"
   ]
  },
  {
   "cell_type": "code",
   "execution_count": 23,
   "id": "89dc2bf8-d928-47c1-9f0b-b459f0ed3db5",
   "metadata": {},
   "outputs": [
    {
     "data": {
      "text/plain": [
       "'{\"word\":\"meticulous\",\"definition_options\":[\"showing great attention to detail\",\"lacking care or attention to detail\",\"acting hastily without thought\",\"showing preference for big picture over details\"]}'"
      ]
     },
     "execution_count": 23,
     "metadata": {},
     "output_type": "execute_result"
    }
   ],
   "source": [
    "arguments = tool_call.function.arguments\n",
    "arguments"
   ]
  },
  {
   "cell_type": "code",
   "execution_count": 25,
   "id": "b47282cb-6d63-4bc4-bab2-b5f2e3e358ab",
   "metadata": {},
   "outputs": [
    {
     "data": {
      "text/plain": [
       "{'word': 'meticulous',\n",
       " 'definition_options': ['showing great attention to detail',\n",
       "  'lacking care or attention to detail',\n",
       "  'acting hastily without thought',\n",
       "  'showing preference for big picture over details']}"
      ]
     },
     "execution_count": 25,
     "metadata": {},
     "output_type": "execute_result"
    }
   ],
   "source": [
    "arguments = json.loads(tool_call.function.arguments)\n",
    "arguments"
   ]
  },
  {
   "cell_type": "code",
   "execution_count": 26,
   "id": "e8b060b9-cd9e-48cb-9ad2-72bd58155190",
   "metadata": {},
   "outputs": [
    {
     "data": {
      "text/plain": [
       "'meticulous'"
      ]
     },
     "execution_count": 26,
     "metadata": {},
     "output_type": "execute_result"
    }
   ],
   "source": [
    "arguments['word']"
   ]
  },
  {
   "cell_type": "code",
   "execution_count": 27,
   "id": "cbed36de-6878-4210-853c-ddd549e9b861",
   "metadata": {},
   "outputs": [
    {
     "data": {
      "text/plain": [
       "['showing great attention to detail',\n",
       " 'lacking care or attention to detail',\n",
       " 'acting hastily without thought',\n",
       " 'showing preference for big picture over details']"
      ]
     },
     "execution_count": 27,
     "metadata": {},
     "output_type": "execute_result"
    }
   ],
   "source": [
    "arguments['definition_options']"
   ]
  },
  {
   "cell_type": "code",
   "execution_count": 29,
   "id": "fab14e41-5088-43be-a290-153c5793057b",
   "metadata": {},
   "outputs": [
    {
     "name": "stdout",
     "output_type": "stream",
     "text": [
      "Welcome to the word definition quiz\n",
      "What is the correct definition of this word: meticulous\n",
      "\n",
      "\n",
      "Definition #0 is showing great attention to detail\n",
      "\n",
      "\n",
      "Definition #1 is lacking care or attention to detail\n",
      "\n",
      "\n",
      "Definition #2 is acting hastily without thought\n",
      "\n",
      "\n",
      "Definition #3 is showing preference for big picture over details\n",
      "\n",
      "\n"
     ]
    },
    {
     "name": "stdin",
     "output_type": "stream",
     "text": [
      "What is your choice? Return the #Num Option 1\n"
     ]
    }
   ],
   "source": [
    "response = word_definition_quiz(\n",
    "    word=arguments['word'],\n",
    "    definition_options=arguments['definition_options']\n",
    ")"
   ]
  },
  {
   "cell_type": "code",
   "execution_count": 30,
   "id": "6ef23509-2ac5-403a-9446-e95783727b46",
   "metadata": {},
   "outputs": [
    {
     "data": {
      "text/plain": [
       "'lacking care or attention to detail'"
      ]
     },
     "execution_count": 30,
     "metadata": {},
     "output_type": "execute_result"
    }
   ],
   "source": [
    "response"
   ]
  },
  {
   "cell_type": "code",
   "execution_count": 31,
   "id": "f12ede16-8a21-44ef-b522-482dc675699d",
   "metadata": {},
   "outputs": [],
   "source": [
    "run = client.beta.threads.runs.submit_tool_outputs(\n",
    "    thread_id=thread.id,\n",
    "    run_id=run.id,\n",
    "    tool_outputs=[\n",
    "        {\n",
    "            'tool_call_id': tool_call.id,\n",
    "            'output': json.dumps(response)\n",
    "        }\n",
    "    ]\n",
    ")"
   ]
  },
  {
   "cell_type": "code",
   "execution_count": 32,
   "id": "4f0b8ff3-567d-4ea2-8718-174f937e5d7a",
   "metadata": {},
   "outputs": [
    {
     "name": "stdout",
     "output_type": "stream",
     "text": [
      "completed\n"
     ]
    }
   ],
   "source": [
    "run = wait_on_run(run, thread)"
   ]
  },
  {
   "cell_type": "code",
   "execution_count": 34,
   "id": "657ac380-1c26-4660-a693-b926333e19bc",
   "metadata": {},
   "outputs": [
    {
     "name": "stdout",
     "output_type": "stream",
     "text": [
      "The word is \"meticulous\" and here are the definition options:\n",
      "1. Showing great attention to detail\n",
      "2. Lacking care or attention to detail\n",
      "3. Acting hastily without thought\n",
      "4. Showing preference for big picture over details\n",
      "\n",
      "The student answered with \"Lacking care or attention to detail.\" \n",
      "This answer is incorrect. The correct definition for \"meticulous\" is \"showing great attention to detail.\"\n",
      "\n",
      "\n",
      "Create a new quiz question word and definition list. Then let me know if the student answer received is correct\n",
      "\n",
      "\n"
     ]
    }
   ],
   "source": [
    "messages = client.beta.threads.messages.list(thread_id=thread.id)\n",
    "\n",
    "for thread_message in messages:\n",
    "    print(thread_message.content[0].text.value)\n",
    "    print('\\n')"
   ]
  },
  {
   "cell_type": "code",
   "execution_count": null,
   "id": "73ff5b71-40f8-477a-9b93-0c038de4cfa8",
   "metadata": {},
   "outputs": [],
   "source": []
  }
 ],
 "metadata": {
  "kernelspec": {
   "display_name": "Python 3 (ipykernel)",
   "language": "python",
   "name": "python3"
  },
  "language_info": {
   "codemirror_mode": {
    "name": "ipython",
    "version": 3
   },
   "file_extension": ".py",
   "mimetype": "text/x-python",
   "name": "python",
   "nbconvert_exporter": "python",
   "pygments_lexer": "ipython3",
   "version": "3.11.11"
  }
 },
 "nbformat": 4,
 "nbformat_minor": 5
}
