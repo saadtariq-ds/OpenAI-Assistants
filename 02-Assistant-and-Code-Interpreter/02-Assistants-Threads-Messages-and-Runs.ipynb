{
 "cells": [
  {
   "cell_type": "markdown",
   "id": "54cef1a8-3086-4798-9d36-be3976431137",
   "metadata": {},
   "source": [
    "## Setup and Import Libraries"
   ]
  },
  {
   "cell_type": "code",
   "execution_count": 1,
   "id": "fb95c10e-5813-4151-bf1c-2b76cb580692",
   "metadata": {},
   "outputs": [],
   "source": [
    "from openai import OpenAI\n",
    "from dotenv import load_dotenv, find_dotenv"
   ]
  },
  {
   "cell_type": "code",
   "execution_count": 2,
   "id": "c1fd9416-1244-49d0-af0d-86b40f7d4449",
   "metadata": {},
   "outputs": [],
   "source": [
    "_ = load_dotenv(find_dotenv())"
   ]
  },
  {
   "cell_type": "code",
   "execution_count": 3,
   "id": "0b421c27-ea32-41dd-86a6-fcf5eb57b1ef",
   "metadata": {},
   "outputs": [],
   "source": [
    "client = OpenAI()"
   ]
  },
  {
   "cell_type": "markdown",
   "id": "e8d5840c-6eef-4a34-a9cf-35e9f5917cbb",
   "metadata": {},
   "source": [
    "## Creating Assistant"
   ]
  },
  {
   "cell_type": "code",
   "execution_count": 4,
   "id": "b6821efb-b68e-4deb-a297-0223a6269ab1",
   "metadata": {},
   "outputs": [],
   "source": [
    "assistant = client.beta.assistants.create(\n",
    "    name='Math Tutor',\n",
    "    instructions='You convert maths problems into Python Code and then run the code to show the answer',\n",
    "    tools=[{'type':'code_interpreter'}],\n",
    "    model='gpt-3.5-turbo',\n",
    ")"
   ]
  },
  {
   "cell_type": "code",
   "execution_count": 5,
   "id": "cefe19db-e2fa-4bd8-8095-7b54106d6c21",
   "metadata": {},
   "outputs": [
    {
     "data": {
      "text/plain": [
       "'asst_7BYIfUjYa5ErYBBowNQsXJe4'"
      ]
     },
     "execution_count": 5,
     "metadata": {},
     "output_type": "execute_result"
    }
   ],
   "source": [
    "assistant.id"
   ]
  },
  {
   "cell_type": "markdown",
   "id": "9fd59175-f6bf-4fd1-b169-152ae3c3d869",
   "metadata": {},
   "source": [
    "## Creating Thread"
   ]
  },
  {
   "cell_type": "code",
   "execution_count": 6,
   "id": "0570cf87-6de5-4a92-b782-f08f859a6ebc",
   "metadata": {},
   "outputs": [],
   "source": [
    "thread = client.beta.threads.create()"
   ]
  },
  {
   "cell_type": "code",
   "execution_count": 10,
   "id": "ccfc54d5-bf1b-40fa-a893-9858ddbce0ff",
   "metadata": {},
   "outputs": [
    {
     "data": {
      "text/plain": [
       "'thread_KG6R1ju3I3EKqlDuqvyw0RHZ'"
      ]
     },
     "execution_count": 10,
     "metadata": {},
     "output_type": "execute_result"
    }
   ],
   "source": [
    "thread.id"
   ]
  },
  {
   "cell_type": "markdown",
   "id": "98159033-13ed-4fb9-be39-4801861c1291",
   "metadata": {},
   "source": [
    "## Creating Messages"
   ]
  },
  {
   "cell_type": "code",
   "execution_count": 9,
   "id": "9ffd3e20-0e9d-4f68-97b0-c576cc4754b7",
   "metadata": {},
   "outputs": [],
   "source": [
    "messages = client.beta.threads.messages.create(\n",
    "    thread_id=thread.id,\n",
    "    role='user',\n",
    "    content='What is 123456 times 456789?',\n",
    ")"
   ]
  },
  {
   "cell_type": "markdown",
   "id": "ca29f45d-d2a9-4796-84fc-4c56610c4da6",
   "metadata": {},
   "source": [
    "## Creating Runs"
   ]
  },
  {
   "cell_type": "code",
   "execution_count": 11,
   "id": "b784cac1-45e5-4f9f-aa20-05a84fc696ff",
   "metadata": {},
   "outputs": [],
   "source": [
    "run = client.beta.threads.runs.create(\n",
    "    thread_id=thread.id,\n",
    "    assistant_id=assistant.id\n",
    ")"
   ]
  },
  {
   "cell_type": "code",
   "execution_count": 12,
   "id": "3f690e2a-3dd6-43a1-88ec-e31e240b4e8a",
   "metadata": {},
   "outputs": [
    {
     "data": {
      "text/plain": [
       "'queued'"
      ]
     },
     "execution_count": 12,
     "metadata": {},
     "output_type": "execute_result"
    }
   ],
   "source": [
    "run.status"
   ]
  },
  {
   "cell_type": "code",
   "execution_count": 13,
   "id": "fca466d9-b8c1-4bb1-afed-e089658f7a25",
   "metadata": {},
   "outputs": [
    {
     "data": {
      "text/plain": [
       "'run_q4lRLKiMFzEgYwUzghIYfF6Z'"
      ]
     },
     "execution_count": 13,
     "metadata": {},
     "output_type": "execute_result"
    }
   ],
   "source": [
    "run.id"
   ]
  },
  {
   "cell_type": "code",
   "execution_count": 15,
   "id": "6cf8aa73-46ba-40bd-af23-cf6322d5ac12",
   "metadata": {},
   "outputs": [],
   "source": [
    "run = client.beta.threads.runs.retrieve(\n",
    "    thread_id=thread.id,\n",
    "    run_id=run.id\n",
    ")"
   ]
  },
  {
   "cell_type": "code",
   "execution_count": 16,
   "id": "58406d57-9f87-4b19-85a4-e8cf5b122080",
   "metadata": {},
   "outputs": [
    {
     "data": {
      "text/plain": [
       "'completed'"
      ]
     },
     "execution_count": 16,
     "metadata": {},
     "output_type": "execute_result"
    }
   ],
   "source": [
    "run.status"
   ]
  },
  {
   "cell_type": "markdown",
   "id": "966c788d-8a8a-4f31-a772-9a1a26fb4049",
   "metadata": {},
   "source": [
    "## Grabbing Messages in Threads"
   ]
  },
  {
   "cell_type": "code",
   "execution_count": 17,
   "id": "a2d121c8-8f71-4194-9b62-92b2cb359590",
   "metadata": {},
   "outputs": [
    {
     "data": {
      "text/plain": [
       "SyncCursorPage[Message](data=[Message(id='msg_Zz2kLfSiLev2v60GtyMxg7gk', assistant_id='asst_7BYIfUjYa5ErYBBowNQsXJe4', attachments=[], completed_at=None, content=[TextContentBlock(text=Text(annotations=[], value='123456 multiplied by 456789 is equal to 56,393,342,784.'), type='text')], created_at=1742154717, incomplete_at=None, incomplete_details=None, metadata={}, object='thread.message', role='assistant', run_id='run_q4lRLKiMFzEgYwUzghIYfF6Z', status=None, thread_id='thread_KG6R1ju3I3EKqlDuqvyw0RHZ'), Message(id='msg_U4KdErMvaOCDNSxZVf1PkLX1', assistant_id=None, attachments=[], completed_at=None, content=[TextContentBlock(text=Text(annotations=[], value='What is 123456 times 456789?'), type='text')], created_at=1742154545, incomplete_at=None, incomplete_details=None, metadata={}, object='thread.message', role='user', run_id=None, status=None, thread_id='thread_KG6R1ju3I3EKqlDuqvyw0RHZ')], has_more=False, object='list', first_id='msg_Zz2kLfSiLev2v60GtyMxg7gk', last_id='msg_U4KdErMvaOCDNSxZVf1PkLX1')"
      ]
     },
     "execution_count": 17,
     "metadata": {},
     "output_type": "execute_result"
    }
   ],
   "source": [
    "messages = client.beta.threads.messages.list(\n",
    "    thread_id=thread.id\n",
    ")\n",
    "\n",
    "messages"
   ]
  },
  {
   "cell_type": "code",
   "execution_count": 23,
   "id": "9ee3cb16-a5c5-400f-8a2e-b94f221f7797",
   "metadata": {},
   "outputs": [],
   "source": [
    "# messages.data"
   ]
  },
  {
   "cell_type": "code",
   "execution_count": 24,
   "id": "3e619290-fcf7-43b9-9bc5-767845cb1dcb",
   "metadata": {},
   "outputs": [
    {
     "data": {
      "text/plain": [
       "'123456 multiplied by 456789 is equal to 56,393,342,784.'"
      ]
     },
     "execution_count": 24,
     "metadata": {},
     "output_type": "execute_result"
    }
   ],
   "source": [
    "messages.data[0].content[0].text.value"
   ]
  },
  {
   "cell_type": "code",
   "execution_count": 25,
   "id": "bf7720b3-90fb-4511-8490-6f2cf972d0ef",
   "metadata": {},
   "outputs": [
    {
     "name": "stdout",
     "output_type": "stream",
     "text": [
      "123456 multiplied by 456789 is equal to 56,393,342,784.\n",
      "\n",
      "\n",
      "What is 123456 times 456789?\n",
      "\n",
      "\n"
     ]
    }
   ],
   "source": [
    "for message in messages.data:\n",
    "    print(message.content[0].text.value)\n",
    "    print('\\n')"
   ]
  },
  {
   "cell_type": "code",
   "execution_count": 26,
   "id": "2559a533-8583-4008-bdd3-b0e8072c3e47",
   "metadata": {},
   "outputs": [
    {
     "data": {
      "text/plain": [
       "56393342784"
      ]
     },
     "execution_count": 26,
     "metadata": {},
     "output_type": "execute_result"
    }
   ],
   "source": [
    "123456 * 456789"
   ]
  },
  {
   "cell_type": "markdown",
   "id": "f8b1f16f-42d0-4f25-b5dd-90f849e40db4",
   "metadata": {},
   "source": [
    "## Get Detailed Information about Run Job"
   ]
  },
  {
   "cell_type": "code",
   "execution_count": 27,
   "id": "5ed22e47-93da-4550-9f26-17be053cc501",
   "metadata": {},
   "outputs": [
    {
     "data": {
      "text/plain": [
       "'run_q4lRLKiMFzEgYwUzghIYfF6Z'"
      ]
     },
     "execution_count": 27,
     "metadata": {},
     "output_type": "execute_result"
    }
   ],
   "source": [
    "run.id"
   ]
  },
  {
   "cell_type": "code",
   "execution_count": 28,
   "id": "85fd727b-881d-4722-aa04-9510e2cad383",
   "metadata": {},
   "outputs": [],
   "source": [
    "run_steps = client.beta.threads.runs.steps.list(\n",
    "    thread_id=thread.id,\n",
    "    run_id=run.id,\n",
    ")"
   ]
  },
  {
   "cell_type": "code",
   "execution_count": 29,
   "id": "099145a2-627c-437f-b876-8ad63ecee0ce",
   "metadata": {},
   "outputs": [
    {
     "data": {
      "text/plain": [
       "SyncCursorPage[RunStep](data=[RunStep(id='step_dWHeqdsknUreX7RPeVHJSKpe', assistant_id='asst_7BYIfUjYa5ErYBBowNQsXJe4', cancelled_at=None, completed_at=1742154718, created_at=1742154717, expired_at=None, failed_at=None, last_error=None, metadata=None, object='thread.run.step', run_id='run_q4lRLKiMFzEgYwUzghIYfF6Z', status='completed', step_details=MessageCreationStepDetails(message_creation=MessageCreation(message_id='msg_Zz2kLfSiLev2v60GtyMxg7gk'), type='message_creation'), thread_id='thread_KG6R1ju3I3EKqlDuqvyw0RHZ', type='message_creation', usage=Usage(completion_tokens=21, prompt_tokens=180, total_tokens=201, prompt_token_details={'cached_tokens': 0}, completion_tokens_details={'reasoning_tokens': 0}), expires_at=None), RunStep(id='step_ioh58Pfb4Vl0zraYXwU8oYu9', assistant_id='asst_7BYIfUjYa5ErYBBowNQsXJe4', cancelled_at=None, completed_at=1742154717, created_at=1742154715, expired_at=None, failed_at=None, last_error=None, metadata=None, object='thread.run.step', run_id='run_q4lRLKiMFzEgYwUzghIYfF6Z', status='completed', step_details=ToolCallsStepDetails(tool_calls=[CodeInterpreterToolCall(id='call_tPcT5XA1BCOFgMHmbhUzUaUL', code_interpreter=CodeInterpreter(input='# Define the two numbers\\nnum1 = 123456\\nnum2 = 456789\\n\\n# Multiply the two numbers\\nresult = num1 * num2\\nresult', outputs=[]), type='code_interpreter')], type='tool_calls'), thread_id='thread_KG6R1ju3I3EKqlDuqvyw0RHZ', type='tool_calls', usage=Usage(completion_tokens=41, prompt_tokens=127, total_tokens=168, prompt_token_details={'cached_tokens': 0}, completion_tokens_details={'reasoning_tokens': 0}), expires_at=None)], has_more=False, object='list', first_id='step_dWHeqdsknUreX7RPeVHJSKpe', last_id='step_ioh58Pfb4Vl0zraYXwU8oYu9')"
      ]
     },
     "execution_count": 29,
     "metadata": {},
     "output_type": "execute_result"
    }
   ],
   "source": [
    "run_steps"
   ]
  },
  {
   "cell_type": "code",
   "execution_count": 30,
   "id": "fc5216da-4d53-4877-bce1-eb94820844db",
   "metadata": {},
   "outputs": [
    {
     "name": "stdout",
     "output_type": "stream",
     "text": [
      "MessageCreationStepDetails(message_creation=MessageCreation(message_id='msg_Zz2kLfSiLev2v60GtyMxg7gk'), type='message_creation')\n",
      "\n",
      "\n",
      "ToolCallsStepDetails(tool_calls=[CodeInterpreterToolCall(id='call_tPcT5XA1BCOFgMHmbhUzUaUL', code_interpreter=CodeInterpreter(input='# Define the two numbers\\nnum1 = 123456\\nnum2 = 456789\\n\\n# Multiply the two numbers\\nresult = num1 * num2\\nresult', outputs=[]), type='code_interpreter')], type='tool_calls')\n",
      "\n",
      "\n"
     ]
    }
   ],
   "source": [
    "for step in run_steps:\n",
    "    print(step.step_details)\n",
    "    print('\\n')"
   ]
  },
  {
   "cell_type": "markdown",
   "id": "1153577e-3f7d-4e13-a1ed-adb49f77f4f5",
   "metadata": {},
   "source": [
    "## List Assistants"
   ]
  },
  {
   "cell_type": "code",
   "execution_count": 31,
   "id": "53135ad0-0393-4e85-9714-0667e461b8fd",
   "metadata": {},
   "outputs": [],
   "source": [
    "my_assistants = client.beta.assistants.list(\n",
    "    order='desc',\n",
    "    limit=20,\n",
    ")"
   ]
  },
  {
   "cell_type": "code",
   "execution_count": 32,
   "id": "ae68c97b-c30e-4c55-9257-efb5dc93298c",
   "metadata": {},
   "outputs": [
    {
     "data": {
      "text/plain": [
       "[Assistant(id='asst_7BYIfUjYa5ErYBBowNQsXJe4', created_at=1742154409, description=None, instructions='You convert maths problems into Python Code and then run the code to show the answer', metadata={}, model='gpt-3.5-turbo', name='Math Tutor', object='assistant', tools=[CodeInterpreterTool(type='code_interpreter')], response_format='auto', temperature=1.0, tool_resources=ToolResources(code_interpreter=ToolResourcesCodeInterpreter(file_ids=[]), file_search=None), top_p=1.0, reasoning_effort=None)]"
      ]
     },
     "execution_count": 32,
     "metadata": {},
     "output_type": "execute_result"
    }
   ],
   "source": [
    "my_assistants.data"
   ]
  },
  {
   "cell_type": "markdown",
   "id": "1e27a7c3-aac4-4c7b-bd28-4b678d3e62e2",
   "metadata": {},
   "source": [
    "## Deleting Assistant"
   ]
  },
  {
   "cell_type": "code",
   "execution_count": 33,
   "id": "cd66314d-e1a4-4d84-99cc-df2548976bb8",
   "metadata": {},
   "outputs": [],
   "source": [
    "response = client.beta.assistants.delete(\n",
    "    assistant_id=assistant.id\n",
    ")"
   ]
  },
  {
   "cell_type": "code",
   "execution_count": 34,
   "id": "9b267ccd-065d-4f12-b932-946b97026811",
   "metadata": {},
   "outputs": [
    {
     "data": {
      "text/plain": [
       "AssistantDeleted(id='asst_7BYIfUjYa5ErYBBowNQsXJe4', deleted=True, object='assistant.deleted')"
      ]
     },
     "execution_count": 34,
     "metadata": {},
     "output_type": "execute_result"
    }
   ],
   "source": [
    "response"
   ]
  },
  {
   "cell_type": "code",
   "execution_count": null,
   "id": "ac3d4912-7447-432f-9341-bbe2ece30107",
   "metadata": {},
   "outputs": [],
   "source": []
  }
 ],
 "metadata": {
  "kernelspec": {
   "display_name": "Python 3 (ipykernel)",
   "language": "python",
   "name": "python3"
  },
  "language_info": {
   "codemirror_mode": {
    "name": "ipython",
    "version": 3
   },
   "file_extension": ".py",
   "mimetype": "text/x-python",
   "name": "python",
   "nbconvert_exporter": "python",
   "pygments_lexer": "ipython3",
   "version": "3.11.11"
  }
 },
 "nbformat": 4,
 "nbformat_minor": 5
}
