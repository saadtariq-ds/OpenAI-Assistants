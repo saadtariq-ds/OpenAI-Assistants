{
 "cells": [
  {
   "cell_type": "markdown",
   "id": "80388c93-1e3b-48cc-8eb6-c3b781e49949",
   "metadata": {},
   "source": [
    "## Setup and Import Libraries"
   ]
  },
  {
   "cell_type": "code",
   "execution_count": 1,
   "id": "8998650e-dfe1-4b5a-a00d-127ff89aa173",
   "metadata": {},
   "outputs": [],
   "source": [
    "from openai import OpenAI\n",
    "from dotenv import load_dotenv, find_dotenv"
   ]
  },
  {
   "cell_type": "code",
   "execution_count": 2,
   "id": "0c75a45d-a8e6-412f-b132-625ed71410a4",
   "metadata": {},
   "outputs": [],
   "source": [
    "_ = load_dotenv(find_dotenv())"
   ]
  },
  {
   "cell_type": "code",
   "execution_count": 3,
   "id": "1d4304fc-c96c-446d-814d-46916c64c4bb",
   "metadata": {},
   "outputs": [],
   "source": [
    "client = OpenAI()"
   ]
  },
  {
   "cell_type": "markdown",
   "id": "96b2727f-076a-4f01-bd0b-64082fed2703",
   "metadata": {},
   "source": [
    "## Understanding Assistant"
   ]
  },
  {
   "cell_type": "code",
   "execution_count": 4,
   "id": "7f2be74d-c864-4ecc-b26e-ab1c782902ec",
   "metadata": {},
   "outputs": [
    {
     "data": {
      "text/plain": [
       "56393342784"
      ]
     },
     "execution_count": 4,
     "metadata": {},
     "output_type": "execute_result"
    }
   ],
   "source": [
    "answer = 123456 * 456789\n",
    "answer"
   ]
  },
  {
   "cell_type": "code",
   "execution_count": 5,
   "id": "d5573b7d-6832-4e06-8712-1aa9afd2e4db",
   "metadata": {},
   "outputs": [],
   "source": [
    "response = client.chat.completions.create(\n",
    "    model='gpt-3.5-turbo',\n",
    "    messages=[\n",
    "        {'role':'system', 'content':'You help solve maths problems'},\n",
    "        {'role':'user', 'content':'What is 123456 times 456789?'},\n",
    "    ]\n",
    ")"
   ]
  },
  {
   "cell_type": "code",
   "execution_count": 6,
   "id": "6d2d77ff-acc6-44f3-abf0-89a0731ad94b",
   "metadata": {},
   "outputs": [
    {
     "name": "stdout",
     "output_type": "stream",
     "text": [
      "123456 times 456789 is equal to 56382701584.\n"
     ]
    }
   ],
   "source": [
    "print(response.choices[0].message.content)"
   ]
  },
  {
   "cell_type": "markdown",
   "id": "02becc8b-7ea4-4449-8390-da901b5eca10",
   "metadata": {},
   "source": [
    "**LLM Generates a incorrect result** "
   ]
  },
  {
   "cell_type": "markdown",
   "id": "af7633cd-a624-49f6-a839-75c8e2f1e66e",
   "metadata": {},
   "source": [
    "### Creating Assistant"
   ]
  },
  {
   "cell_type": "code",
   "execution_count": 13,
   "id": "8d69be02-9782-43cf-a22f-f28d6b279dcc",
   "metadata": {},
   "outputs": [],
   "source": [
    "response = client.chat.completions.create(\n",
    "    model='gpt-3.5-turbo',\n",
    "    temperature=0,\n",
    "    messages=[\n",
    "        {'role':'system', 'content':'You convert word problems into Python Code. Make sure to only return python code equivalent, no other commentary'},\n",
    "        {'role':'user', 'content':'What is 123456 times 456789?'},\n",
    "    ]\n",
    ")"
   ]
  },
  {
   "cell_type": "code",
   "execution_count": 14,
   "id": "0d351f9c-bedc-4c3c-9777-20ac9147309d",
   "metadata": {},
   "outputs": [
    {
     "name": "stdout",
     "output_type": "stream",
     "text": [
      "123456 * 456789\n"
     ]
    }
   ],
   "source": [
    "print(response.choices[0].message.content)"
   ]
  },
  {
   "cell_type": "code",
   "execution_count": 15,
   "id": "5e7e44fd-2e24-4aa0-8e41-5fbd3787f396",
   "metadata": {},
   "outputs": [
    {
     "data": {
      "text/plain": [
       "56393342784"
      ]
     },
     "execution_count": 15,
     "metadata": {},
     "output_type": "execute_result"
    }
   ],
   "source": [
    "eval(response.choices[0].message.content)"
   ]
  },
  {
   "cell_type": "code",
   "execution_count": null,
   "id": "fd214c50-f2cc-4d39-a063-946bec23e41c",
   "metadata": {},
   "outputs": [],
   "source": []
  }
 ],
 "metadata": {
  "kernelspec": {
   "display_name": "Python 3 (ipykernel)",
   "language": "python",
   "name": "python3"
  },
  "language_info": {
   "codemirror_mode": {
    "name": "ipython",
    "version": 3
   },
   "file_extension": ".py",
   "mimetype": "text/x-python",
   "name": "python",
   "nbconvert_exporter": "python",
   "pygments_lexer": "ipython3",
   "version": "3.11.11"
  }
 },
 "nbformat": 4,
 "nbformat_minor": 5
}
