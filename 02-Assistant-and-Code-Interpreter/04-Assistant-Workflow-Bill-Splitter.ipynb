{
 "cells": [
  {
   "cell_type": "markdown",
   "id": "ab220de8-10ad-430a-a994-1e5e2f82d7c7",
   "metadata": {},
   "source": [
    "## Setup and Import Libraries"
   ]
  },
  {
   "cell_type": "code",
   "execution_count": 1,
   "id": "41d7293e-e87a-4082-a372-9d003b9bcaa4",
   "metadata": {},
   "outputs": [],
   "source": [
    "from openai import OpenAI\n",
    "from dotenv import load_dotenv, find_dotenv\n",
    "import time"
   ]
  },
  {
   "cell_type": "code",
   "execution_count": 2,
   "id": "61ece72b-5da7-48e3-b093-d013c597ff8d",
   "metadata": {},
   "outputs": [],
   "source": [
    "_ = load_dotenv(find_dotenv())"
   ]
  },
  {
   "cell_type": "code",
   "execution_count": 3,
   "id": "7b6e9a74-6cb8-41be-8579-a6b2140f0e3b",
   "metadata": {},
   "outputs": [],
   "source": [
    "client = OpenAI()"
   ]
  },
  {
   "cell_type": "markdown",
   "id": "abd1849a-6ece-4def-a003-893ea307dfbb",
   "metadata": {},
   "source": [
    "## Step 1: Creating Assistant"
   ]
  },
  {
   "cell_type": "code",
   "execution_count": 4,
   "id": "ab770501-dfb9-4b54-9d95-ece3030b6355",
   "metadata": {},
   "outputs": [],
   "source": [
    "assistant = client.beta.assistants.create(\n",
    "    name='Bill Splitter Bot',\n",
    "    instructions='You use Python code to help to calculate the correct way to split the bill.',\n",
    "    tools=[{'type':'code_interpreter'}],\n",
    "    model='gpt-3.5-turbo',\n",
    ")"
   ]
  },
  {
   "cell_type": "markdown",
   "id": "49315745-f60a-4342-a452-c678d138b0e1",
   "metadata": {},
   "source": [
    "## Step 2: Creating Thread"
   ]
  },
  {
   "cell_type": "code",
   "execution_count": 5,
   "id": "f6381cab-55ee-496f-9e6d-df3c170712b5",
   "metadata": {},
   "outputs": [],
   "source": [
    "thread = client.beta.threads.create()"
   ]
  },
  {
   "cell_type": "markdown",
   "id": "4b72b298-9967-451d-bae3-e567dfd71338",
   "metadata": {},
   "source": [
    "## Step 3: Add Message to Thread"
   ]
  },
  {
   "cell_type": "code",
   "execution_count": 6,
   "id": "109e1753-1598-4d4f-af1e-f40ddc2ce6b5",
   "metadata": {},
   "outputs": [],
   "source": [
    "message_content = \"\"\" Mary ordered a burger, fries and coke. I ordered just a salad and coke.\n",
    "A burger is $10, fries are $5, a salad is $8 and cokes are $2 each.\n",
    "We want to leave an $18 tip. Please split the bill between Mary and me, how much do we each owe?\n",
    "\"\"\""
   ]
  },
  {
   "cell_type": "code",
   "execution_count": 7,
   "id": "624937c6-4513-43b4-a7d6-be71c558a1c3",
   "metadata": {},
   "outputs": [],
   "source": [
    "message = client.beta.threads.messages.create(\n",
    "    thread_id=thread.id,\n",
    "    role='user',\n",
    "    content=message_content,\n",
    ")"
   ]
  },
  {
   "cell_type": "markdown",
   "id": "0c791f3c-9404-4f2b-8a99-0f2b212a9b78",
   "metadata": {},
   "source": [
    "## Step 4: Run the Thread"
   ]
  },
  {
   "cell_type": "code",
   "execution_count": 8,
   "id": "5df57e3e-f817-4085-ad27-042d66a889a9",
   "metadata": {},
   "outputs": [],
   "source": [
    "run = client.beta.threads.runs.create(\n",
    "    thread_id=thread.id,\n",
    "    assistant_id=assistant.id,\n",
    ")"
   ]
  },
  {
   "cell_type": "markdown",
   "id": "debbd241-5b6d-4771-89dd-765cf080f67d",
   "metadata": {},
   "source": [
    "## Step 5: Display Response"
   ]
  },
  {
   "cell_type": "code",
   "execution_count": 14,
   "id": "c98eb941-bd98-46fd-80f3-1185667691d4",
   "metadata": {},
   "outputs": [],
   "source": [
    "messages = client.beta.threads.messages.list(\n",
    "    thread_id=thread.id,\n",
    "    order='asc',\n",
    ")"
   ]
  },
  {
   "cell_type": "code",
   "execution_count": 15,
   "id": "788acd4c-4ee0-4e8b-811d-a20f94d3f608",
   "metadata": {},
   "outputs": [
    {
     "data": {
      "text/plain": [
       "SyncCursorPage[Message](data=[Message(id='msg_wnt4VKfhoyKBqLkPPIJDMg5h', assistant_id=None, attachments=[], completed_at=None, content=[TextContentBlock(text=Text(annotations=[], value=' Mary ordered a burger, fries and coke. I ordered just a salad and coke.\\nA burger is $10, fries are $5, a salad is $8 and cokes are $2 each.\\nWe want to leave an $18 tip. Please split the bill between Mary and me, how much do we each owe?\\n'), type='text')], created_at=1742237823, incomplete_at=None, incomplete_details=None, metadata={}, object='thread.message', role='user', run_id=None, status=None, thread_id='thread_mXW7ERdAwZM2sbBnqKQVtGIt'), Message(id='msg_YEo7jhwHBv8nilxadLHknLmh', assistant_id='asst_rPmx2mtHfGXgFQciOCedYBe7', attachments=[], completed_at=None, content=[TextContentBlock(text=Text(annotations=[], value=\"To calculate how much Mary and you each owe, we first need to calculate the total cost of the items ordered and the tip. Then, we can divide the total amount by 2 to split it evenly between the two of you.\\n\\nLet's calculate the total amount including the tip first.\"), type='text')], created_at=1742237827, incomplete_at=None, incomplete_details=None, metadata={}, object='thread.message', role='assistant', run_id='run_tl7FfctQLfasb0lE0BbBAN6n', status=None, thread_id='thread_mXW7ERdAwZM2sbBnqKQVtGIt'), Message(id='msg_k4QWsLJ8qCWZLNIvpAC6yIQx', assistant_id='asst_rPmx2mtHfGXgFQciOCedYBe7', attachments=[], completed_at=None, content=[TextContentBlock(text=Text(annotations=[], value=\"The total cost of the items ordered and the tip is $45.\\n\\nNow, let's calculate how much Mary and you each owe by splitting the total amount evenly.\"), type='text')], created_at=1742237831, incomplete_at=None, incomplete_details=None, metadata={}, object='thread.message', role='assistant', run_id='run_tl7FfctQLfasb0lE0BbBAN6n', status=None, thread_id='thread_mXW7ERdAwZM2sbBnqKQVtGIt'), Message(id='msg_zv5IqooxRjjhGSAuhGfGgt3r', assistant_id='asst_rPmx2mtHfGXgFQciOCedYBe7', attachments=[], completed_at=None, content=[TextContentBlock(text=Text(annotations=[], value='Mary and you each owe $22.50 to split the bill evenly.'), type='text')], created_at=1742237834, incomplete_at=None, incomplete_details=None, metadata={}, object='thread.message', role='assistant', run_id='run_tl7FfctQLfasb0lE0BbBAN6n', status=None, thread_id='thread_mXW7ERdAwZM2sbBnqKQVtGIt')], has_more=False, object='list', first_id='msg_wnt4VKfhoyKBqLkPPIJDMg5h', last_id='msg_zv5IqooxRjjhGSAuhGfGgt3r')"
      ]
     },
     "execution_count": 15,
     "metadata": {},
     "output_type": "execute_result"
    }
   ],
   "source": [
    "messages"
   ]
  },
  {
   "cell_type": "code",
   "execution_count": 16,
   "id": "52c3843e-df63-4868-8f98-3f91bc245a82",
   "metadata": {},
   "outputs": [],
   "source": [
    "def display_thread_messages(messages):\n",
    "    for thread_message in messages.data:\n",
    "        print(thread_message.content[0].text.value)\n",
    "        print(\"\\n\")"
   ]
  },
  {
   "cell_type": "code",
   "execution_count": 17,
   "id": "e0b3e674-31da-4e0e-92cf-2f826b612593",
   "metadata": {},
   "outputs": [
    {
     "name": "stdout",
     "output_type": "stream",
     "text": [
      " Mary ordered a burger, fries and coke. I ordered just a salad and coke.\n",
      "A burger is $10, fries are $5, a salad is $8 and cokes are $2 each.\n",
      "We want to leave an $18 tip. Please split the bill between Mary and me, how much do we each owe?\n",
      "\n",
      "\n",
      "\n",
      "To calculate how much Mary and you each owe, we first need to calculate the total cost of the items ordered and the tip. Then, we can divide the total amount by 2 to split it evenly between the two of you.\n",
      "\n",
      "Let's calculate the total amount including the tip first.\n",
      "\n",
      "\n",
      "The total cost of the items ordered and the tip is $45.\n",
      "\n",
      "Now, let's calculate how much Mary and you each owe by splitting the total amount evenly.\n",
      "\n",
      "\n",
      "Mary and you each owe $22.50 to split the bill evenly.\n",
      "\n",
      "\n"
     ]
    }
   ],
   "source": [
    "display_thread_messages(messages=messages)"
   ]
  },
  {
   "cell_type": "markdown",
   "id": "aa59e00b-1d4a-4b5d-b662-77f017791081",
   "metadata": {},
   "source": [
    "## Step 6: Continue Conversation if Bill is split evenly"
   ]
  },
  {
   "cell_type": "code",
   "execution_count": 18,
   "id": "38807fc5-ff50-4461-ae2d-90ae9d783f17",
   "metadata": {},
   "outputs": [],
   "source": [
    "message = client.beta.threads.messages.create(\n",
    "    thread_id=thread.id,\n",
    "    role='user',\n",
    "    content='Do not split the bill evenly. Have each person only pay for what they ordered, but do not forget the tip.',\n",
    ")"
   ]
  },
  {
   "cell_type": "code",
   "execution_count": 19,
   "id": "ee222119-12ce-4d01-b2f7-5f355e6df030",
   "metadata": {},
   "outputs": [],
   "source": [
    "run = client.beta.threads.runs.create(\n",
    "    thread_id=thread.id,\n",
    "    assistant_id=assistant.id\n",
    ")"
   ]
  },
  {
   "cell_type": "code",
   "execution_count": 21,
   "id": "7d82167d-c277-4fef-bb6c-427c3046a5ba",
   "metadata": {},
   "outputs": [
    {
     "name": "stdout",
     "output_type": "stream",
     "text": [
      " Mary ordered a burger, fries and coke. I ordered just a salad and coke.\n",
      "A burger is $10, fries are $5, a salad is $8 and cokes are $2 each.\n",
      "We want to leave an $18 tip. Please split the bill between Mary and me, how much do we each owe?\n",
      "\n",
      "\n",
      "\n",
      "To calculate how much Mary and you each owe, we first need to calculate the total cost of the items ordered and the tip. Then, we can divide the total amount by 2 to split it evenly between the two of you.\n",
      "\n",
      "Let's calculate the total amount including the tip first.\n",
      "\n",
      "\n",
      "The total cost of the items ordered and the tip is $45.\n",
      "\n",
      "Now, let's calculate how much Mary and you each owe by splitting the total amount evenly.\n",
      "\n",
      "\n",
      "Mary and you each owe $22.50 to split the bill evenly.\n",
      "\n",
      "\n",
      "Do not split the bill evenly. Have each person only pay for what they ordered, but do not forget the tip.\n",
      "\n",
      "\n",
      "To calculate how much Mary and you owe, considering only what each person ordered (including the tip), we can first calculate the total cost for each person separately and then add the tip. Let's calculate that now.\n",
      "\n",
      "\n",
      "Mary should pay $35 and you should pay $28 to cover the cost of what each of you ordered along with the tip.\n",
      "\n",
      "\n"
     ]
    }
   ],
   "source": [
    "messages = client.beta.threads.messages.list(\n",
    "    thread_id=thread.id,\n",
    "    order='asc',\n",
    ")\n",
    "\n",
    "display_thread_messages(messages=messages)"
   ]
  },
  {
   "cell_type": "markdown",
   "id": "35551a30-9062-44fe-9db3-0532470ebfd4",
   "metadata": {},
   "source": [
    "## Delete Assistant"
   ]
  },
  {
   "cell_type": "code",
   "execution_count": null,
   "id": "8563e3da-a688-4adf-ac4e-80b82397a09e",
   "metadata": {},
   "outputs": [],
   "source": [
    "response = client.beta.assistants.delete(\n",
    "    assistant_id=assistant.id\n",
    ")"
   ]
  },
  {
   "cell_type": "code",
   "execution_count": null,
   "id": "024d80cf-fef7-4b9d-9557-6697863232a5",
   "metadata": {},
   "outputs": [],
   "source": [
    "response"
   ]
  },
  {
   "cell_type": "code",
   "execution_count": null,
   "id": "3ba608e5-6b61-4e32-8ed4-8503b3d3f794",
   "metadata": {},
   "outputs": [],
   "source": []
  }
 ],
 "metadata": {
  "kernelspec": {
   "display_name": "Python 3 (ipykernel)",
   "language": "python",
   "name": "python3"
  },
  "language_info": {
   "codemirror_mode": {
    "name": "ipython",
    "version": 3
   },
   "file_extension": ".py",
   "mimetype": "text/x-python",
   "name": "python",
   "nbconvert_exporter": "python",
   "pygments_lexer": "ipython3",
   "version": "3.11.11"
  }
 },
 "nbformat": 4,
 "nbformat_minor": 5
}
