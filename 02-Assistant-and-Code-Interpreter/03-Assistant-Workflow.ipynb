{
 "cells": [
  {
   "cell_type": "markdown",
   "id": "ab220de8-10ad-430a-a994-1e5e2f82d7c7",
   "metadata": {},
   "source": [
    "## Setup and Import Libraries"
   ]
  },
  {
   "cell_type": "code",
   "execution_count": 1,
   "id": "41d7293e-e87a-4082-a372-9d003b9bcaa4",
   "metadata": {},
   "outputs": [],
   "source": [
    "from openai import OpenAI\n",
    "from dotenv import load_dotenv, find_dotenv\n",
    "import time"
   ]
  },
  {
   "cell_type": "code",
   "execution_count": 2,
   "id": "61ece72b-5da7-48e3-b093-d013c597ff8d",
   "metadata": {},
   "outputs": [],
   "source": [
    "_ = load_dotenv(find_dotenv())"
   ]
  },
  {
   "cell_type": "code",
   "execution_count": 3,
   "id": "7b6e9a74-6cb8-41be-8579-a6b2140f0e3b",
   "metadata": {},
   "outputs": [],
   "source": [
    "client = OpenAI()"
   ]
  },
  {
   "cell_type": "markdown",
   "id": "abd1849a-6ece-4def-a003-893ea307dfbb",
   "metadata": {},
   "source": [
    "## Step 1: Creating Assistant"
   ]
  },
  {
   "cell_type": "code",
   "execution_count": 4,
   "id": "ab770501-dfb9-4b54-9d95-ece3030b6355",
   "metadata": {},
   "outputs": [],
   "source": [
    "assistant = client.beta.assistants.create(\n",
    "    name='Mortgage Bot',\n",
    "    instructions='You use Python code to help answer questions about mortgage and interest payments.',\n",
    "    tools=[{'type':'code_interpreter'}],\n",
    "    model='gpt-3.5-turbo',\n",
    ")"
   ]
  },
  {
   "cell_type": "markdown",
   "id": "49315745-f60a-4342-a452-c678d138b0e1",
   "metadata": {},
   "source": [
    "## Step 2: Creating Thread"
   ]
  },
  {
   "cell_type": "code",
   "execution_count": 5,
   "id": "f6381cab-55ee-496f-9e6d-df3c170712b5",
   "metadata": {},
   "outputs": [],
   "source": [
    "thread = client.beta.threads.create()"
   ]
  },
  {
   "cell_type": "markdown",
   "id": "4b72b298-9967-451d-bae3-e567dfd71338",
   "metadata": {},
   "source": [
    "## Step 3: Add Message to Thread"
   ]
  },
  {
   "cell_type": "code",
   "execution_count": 6,
   "id": "624937c6-4513-43b4-a7d6-be71c558a1c3",
   "metadata": {},
   "outputs": [],
   "source": [
    "message = client.beta.threads.messages.create(\n",
    "    thread_id=thread.id,\n",
    "    role='user',\n",
    "    content='I want to buy a house that costs $2.1 Million on a 30 year fixed loan at 7.8% interest. What will my monthly payments be?',\n",
    ")"
   ]
  },
  {
   "cell_type": "markdown",
   "id": "0c791f3c-9404-4f2b-8a99-0f2b212a9b78",
   "metadata": {},
   "source": [
    "## Step 4: Run the Thread"
   ]
  },
  {
   "cell_type": "code",
   "execution_count": 7,
   "id": "5df57e3e-f817-4085-ad27-042d66a889a9",
   "metadata": {},
   "outputs": [],
   "source": [
    "run = client.beta.threads.runs.create(\n",
    "    thread_id=thread.id,\n",
    "    assistant_id=assistant.id,\n",
    "    instructions='Give a detailed analysis and considerations regarding the mortgage payments'\n",
    ")"
   ]
  },
  {
   "cell_type": "code",
   "execution_count": 8,
   "id": "1b066264-a3d7-485c-9e5e-c0f6f5a407b6",
   "metadata": {},
   "outputs": [
    {
     "name": "stdout",
     "output_type": "stream",
     "text": [
      "queued\n",
      "in_progress\n",
      "in_progress\n"
     ]
    }
   ],
   "source": [
    "while run.status != 'completed':\n",
    "    print(run.status)\n",
    "    run = client.beta.threads.runs.retrieve(\n",
    "        thread_id=thread.id,\n",
    "        run_id=run.id\n",
    "    )\n",
    "    time.sleep(5)"
   ]
  },
  {
   "cell_type": "markdown",
   "id": "debbd241-5b6d-4771-89dd-765cf080f67d",
   "metadata": {},
   "source": [
    "## Step 5: Display Response"
   ]
  },
  {
   "cell_type": "code",
   "execution_count": 9,
   "id": "c98eb941-bd98-46fd-80f3-1185667691d4",
   "metadata": {},
   "outputs": [],
   "source": [
    "messages = client.beta.threads.messages.list(\n",
    "    thread_id=thread.id\n",
    ")"
   ]
  },
  {
   "cell_type": "code",
   "execution_count": 10,
   "id": "788acd4c-4ee0-4e8b-811d-a20f94d3f608",
   "metadata": {},
   "outputs": [],
   "source": [
    "#messages"
   ]
  },
  {
   "cell_type": "code",
   "execution_count": 11,
   "id": "52c3843e-df63-4868-8f98-3f91bc245a82",
   "metadata": {},
   "outputs": [],
   "source": [
    "def display_thread_messages(messages):\n",
    "    for thread_message in messages.data:\n",
    "        print(thread_message.content[0].text.value)\n",
    "        print(\"\\n\")"
   ]
  },
  {
   "cell_type": "code",
   "execution_count": 12,
   "id": "e0b3e674-31da-4e0e-92cf-2f826b612593",
   "metadata": {},
   "outputs": [
    {
     "name": "stdout",
     "output_type": "stream",
     "text": [
      "The monthly mortgage payment for a $2.1 Million loan at 7.8% interest over a 30-year term would be approximately $15,117.28.\n",
      "\n",
      "\n",
      "To calculate the monthly mortgage payments for a loan, we can use the formula for a fixed-rate mortgage:\n",
      "\n",
      "\\[ M = P \\times \\frac{r(1+r)^n}{(1+r)^n - 1} \\]\n",
      "\n",
      "Where:\n",
      "- \\( M \\) is the monthly mortgage payment\n",
      "- \\( P \\) is the loan amount ($2.1 Million in this case)\n",
      "- \\( r \\) is the monthly interest rate (annual interest rate divided by 12)\n",
      "- \\( n \\) is the total number of payments (loan term in years multiplied by 12)\n",
      "\n",
      "Let's calculate the monthly mortgage payment for a $2.1 Million loan at 7.8% interest over a 30-year term.\n",
      "\n",
      "\n",
      "I want to buy a house that costs $2.1 Million on a 30 year fixed loan at 7.8% interest. What will my monthly payments be?\n",
      "\n",
      "\n"
     ]
    }
   ],
   "source": [
    "display_thread_messages(messages=messages)"
   ]
  },
  {
   "cell_type": "markdown",
   "id": "8b16b894-8dac-4ec2-829f-e7785832e991",
   "metadata": {},
   "source": [
    "### Display Response in a Order and After a Message ID"
   ]
  },
  {
   "cell_type": "code",
   "execution_count": 13,
   "id": "ee3c068f-b68e-4de7-82dd-4d0c4f40f899",
   "metadata": {},
   "outputs": [
    {
     "data": {
      "text/plain": [
       "Message(id='msg_r1fuGbUB1NjAq5iIyvzMcxGX', assistant_id=None, attachments=[], completed_at=None, content=[TextContentBlock(text=Text(annotations=[], value='I want to buy a house that costs $2.1 Million on a 30 year fixed loan at 7.8% interest. What will my monthly payments be?'), type='text')], created_at=1742236678, incomplete_at=None, incomplete_details=None, metadata={}, object='thread.message', role='user', run_id=None, status=None, thread_id='thread_SaeyL5Q8ZkAQaIhDyDNtmVdk')"
      ]
     },
     "execution_count": 13,
     "metadata": {},
     "output_type": "execute_result"
    }
   ],
   "source": [
    "message"
   ]
  },
  {
   "cell_type": "code",
   "execution_count": 14,
   "id": "c4453926-4073-475b-9c77-ff422d4f8f08",
   "metadata": {},
   "outputs": [],
   "source": [
    "messages = client.beta.threads.messages.list(\n",
    "    thread_id=thread.id,\n",
    "    order='asc',\n",
    "    after=message.id\n",
    ")"
   ]
  },
  {
   "cell_type": "code",
   "execution_count": 15,
   "id": "332cc9e5-1da9-4e7a-82db-7332b8be2123",
   "metadata": {},
   "outputs": [
    {
     "name": "stdout",
     "output_type": "stream",
     "text": [
      "To calculate the monthly mortgage payments for a loan, we can use the formula for a fixed-rate mortgage:\n",
      "\n",
      "\\[ M = P \\times \\frac{r(1+r)^n}{(1+r)^n - 1} \\]\n",
      "\n",
      "Where:\n",
      "- \\( M \\) is the monthly mortgage payment\n",
      "- \\( P \\) is the loan amount ($2.1 Million in this case)\n",
      "- \\( r \\) is the monthly interest rate (annual interest rate divided by 12)\n",
      "- \\( n \\) is the total number of payments (loan term in years multiplied by 12)\n",
      "\n",
      "Let's calculate the monthly mortgage payment for a $2.1 Million loan at 7.8% interest over a 30-year term.\n",
      "\n",
      "\n",
      "The monthly mortgage payment for a $2.1 Million loan at 7.8% interest over a 30-year term would be approximately $15,117.28.\n",
      "\n",
      "\n"
     ]
    }
   ],
   "source": [
    "display_thread_messages(messages=messages)"
   ]
  },
  {
   "cell_type": "markdown",
   "id": "aa59e00b-1d4a-4b5d-b662-77f017791081",
   "metadata": {},
   "source": [
    "## Step 6: Continue Conversation"
   ]
  },
  {
   "cell_type": "code",
   "execution_count": 16,
   "id": "48d05520-4d7c-40f7-b359-ec4d88d24d7f",
   "metadata": {},
   "outputs": [],
   "source": [
    "def wait_on_run(run, thread):\n",
    "    while run.status == \"queued\" or run.status == \"in_progress\":\n",
    "        run = client.beta.threads.runs.retrieve(\n",
    "            run_id=run.id,\n",
    "            thread_id=thread.id\n",
    "        )\n",
    "        time.sleep(0.5)\n",
    "        print(run.status)\n",
    "\n",
    "    return run"
   ]
  },
  {
   "cell_type": "code",
   "execution_count": 17,
   "id": "4f9dbe3a-6b8e-4076-a32f-f3b5fc82143c",
   "metadata": {},
   "outputs": [
    {
     "data": {
      "text/plain": [
       "'thread_SaeyL5Q8ZkAQaIhDyDNtmVdk'"
      ]
     },
     "execution_count": 17,
     "metadata": {},
     "output_type": "execute_result"
    }
   ],
   "source": [
    "thread.id"
   ]
  },
  {
   "cell_type": "code",
   "execution_count": 18,
   "id": "c23725a1-cd1a-48fe-bf1e-8198c8c22eb1",
   "metadata": {},
   "outputs": [
    {
     "data": {
      "text/plain": [
       "SyncCursorPage[Message](data=[Message(id='msg_rGYiFW6uVQz2iTFwIfdQ2n7h', assistant_id='asst_iF3OlwgrZ8y1NfQehaBhGgk0', attachments=[], completed_at=None, content=[TextContentBlock(text=Text(annotations=[], value='The monthly mortgage payment for a $2.1 Million loan at 7.8% interest over a 30-year term would be approximately $15,117.28.'), type='text')], created_at=1742236686, incomplete_at=None, incomplete_details=None, metadata={}, object='thread.message', role='assistant', run_id='run_UTdVcpf8BhMclUIsPpN9kiiI', status=None, thread_id='thread_SaeyL5Q8ZkAQaIhDyDNtmVdk'), Message(id='msg_nHE2F0jeCq37uYQMGJvW1hXG', assistant_id='asst_iF3OlwgrZ8y1NfQehaBhGgk0', attachments=[], completed_at=None, content=[TextContentBlock(text=Text(annotations=[], value=\"To calculate the monthly mortgage payments for a loan, we can use the formula for a fixed-rate mortgage:\\n\\n\\\\[ M = P \\\\times \\\\frac{r(1+r)^n}{(1+r)^n - 1} \\\\]\\n\\nWhere:\\n- \\\\( M \\\\) is the monthly mortgage payment\\n- \\\\( P \\\\) is the loan amount ($2.1 Million in this case)\\n- \\\\( r \\\\) is the monthly interest rate (annual interest rate divided by 12)\\n- \\\\( n \\\\) is the total number of payments (loan term in years multiplied by 12)\\n\\nLet's calculate the monthly mortgage payment for a $2.1 Million loan at 7.8% interest over a 30-year term.\"), type='text')], created_at=1742236682, incomplete_at=None, incomplete_details=None, metadata={}, object='thread.message', role='assistant', run_id='run_UTdVcpf8BhMclUIsPpN9kiiI', status=None, thread_id='thread_SaeyL5Q8ZkAQaIhDyDNtmVdk'), Message(id='msg_r1fuGbUB1NjAq5iIyvzMcxGX', assistant_id=None, attachments=[], completed_at=None, content=[TextContentBlock(text=Text(annotations=[], value='I want to buy a house that costs $2.1 Million on a 30 year fixed loan at 7.8% interest. What will my monthly payments be?'), type='text')], created_at=1742236678, incomplete_at=None, incomplete_details=None, metadata={}, object='thread.message', role='user', run_id=None, status=None, thread_id='thread_SaeyL5Q8ZkAQaIhDyDNtmVdk')], has_more=False, object='list', first_id='msg_rGYiFW6uVQz2iTFwIfdQ2n7h', last_id='msg_r1fuGbUB1NjAq5iIyvzMcxGX')"
      ]
     },
     "execution_count": 18,
     "metadata": {},
     "output_type": "execute_result"
    }
   ],
   "source": [
    "client.beta.threads.messages.list(thread_id=thread.id)"
   ]
  },
  {
   "cell_type": "code",
   "execution_count": 19,
   "id": "b26884d7-d29f-4853-940f-b6338dd201cc",
   "metadata": {},
   "outputs": [],
   "source": [
    "message = client.beta.threads.messages.create(\n",
    "    thread_id=thread.id,\n",
    "    role='user',\n",
    "    content='What if I put a down payment of $200K on the house, how would that change my monthly payments?',\n",
    ")"
   ]
  },
  {
   "cell_type": "code",
   "execution_count": 20,
   "id": "08d574e5-3065-4af4-8ec7-e3e177ce68d1",
   "metadata": {},
   "outputs": [
    {
     "data": {
      "text/plain": [
       "SyncCursorPage[Message](data=[Message(id='msg_ImTEuXmAiGRPXFOPcsjqKIdj', assistant_id=None, attachments=[], completed_at=None, content=[TextContentBlock(text=Text(annotations=[], value='What if I put a down payment of $200K on the house, how would that change my monthly payments?'), type='text')], created_at=1742236699, incomplete_at=None, incomplete_details=None, metadata={}, object='thread.message', role='user', run_id=None, status=None, thread_id='thread_SaeyL5Q8ZkAQaIhDyDNtmVdk'), Message(id='msg_rGYiFW6uVQz2iTFwIfdQ2n7h', assistant_id='asst_iF3OlwgrZ8y1NfQehaBhGgk0', attachments=[], completed_at=None, content=[TextContentBlock(text=Text(annotations=[], value='The monthly mortgage payment for a $2.1 Million loan at 7.8% interest over a 30-year term would be approximately $15,117.28.'), type='text')], created_at=1742236686, incomplete_at=None, incomplete_details=None, metadata={}, object='thread.message', role='assistant', run_id='run_UTdVcpf8BhMclUIsPpN9kiiI', status=None, thread_id='thread_SaeyL5Q8ZkAQaIhDyDNtmVdk'), Message(id='msg_nHE2F0jeCq37uYQMGJvW1hXG', assistant_id='asst_iF3OlwgrZ8y1NfQehaBhGgk0', attachments=[], completed_at=None, content=[TextContentBlock(text=Text(annotations=[], value=\"To calculate the monthly mortgage payments for a loan, we can use the formula for a fixed-rate mortgage:\\n\\n\\\\[ M = P \\\\times \\\\frac{r(1+r)^n}{(1+r)^n - 1} \\\\]\\n\\nWhere:\\n- \\\\( M \\\\) is the monthly mortgage payment\\n- \\\\( P \\\\) is the loan amount ($2.1 Million in this case)\\n- \\\\( r \\\\) is the monthly interest rate (annual interest rate divided by 12)\\n- \\\\( n \\\\) is the total number of payments (loan term in years multiplied by 12)\\n\\nLet's calculate the monthly mortgage payment for a $2.1 Million loan at 7.8% interest over a 30-year term.\"), type='text')], created_at=1742236682, incomplete_at=None, incomplete_details=None, metadata={}, object='thread.message', role='assistant', run_id='run_UTdVcpf8BhMclUIsPpN9kiiI', status=None, thread_id='thread_SaeyL5Q8ZkAQaIhDyDNtmVdk'), Message(id='msg_r1fuGbUB1NjAq5iIyvzMcxGX', assistant_id=None, attachments=[], completed_at=None, content=[TextContentBlock(text=Text(annotations=[], value='I want to buy a house that costs $2.1 Million on a 30 year fixed loan at 7.8% interest. What will my monthly payments be?'), type='text')], created_at=1742236678, incomplete_at=None, incomplete_details=None, metadata={}, object='thread.message', role='user', run_id=None, status=None, thread_id='thread_SaeyL5Q8ZkAQaIhDyDNtmVdk')], has_more=False, object='list', first_id='msg_ImTEuXmAiGRPXFOPcsjqKIdj', last_id='msg_r1fuGbUB1NjAq5iIyvzMcxGX')"
      ]
     },
     "execution_count": 20,
     "metadata": {},
     "output_type": "execute_result"
    }
   ],
   "source": [
    "client.beta.threads.messages.list(thread_id=thread.id)"
   ]
  },
  {
   "cell_type": "code",
   "execution_count": 21,
   "id": "ee222119-12ce-4d01-b2f7-5f355e6df030",
   "metadata": {},
   "outputs": [
    {
     "name": "stdout",
     "output_type": "stream",
     "text": [
      "in_progress\n",
      "in_progress\n",
      "in_progress\n",
      "in_progress\n",
      "completed\n",
      "If you make a down payment on the house, it will reduce the loan amount. The new loan amount after the down payment will be $2.1 Million - $200K = $1.9 Million.\n",
      "\n",
      "Let's calculate the new monthly mortgage payment after a down payment of $200K.\n",
      "\n",
      "\n",
      "With a down payment of $200,000, the new monthly mortgage payment for a $1.9 Million loan at 7.8% interest over a 30-year term would be approximately $13,677.54.\n",
      "\n",
      "\n"
     ]
    }
   ],
   "source": [
    "run = client.beta.threads.runs.create(\n",
    "    thread_id=thread.id,\n",
    "    assistant_id=assistant.id\n",
    ")\n",
    "\n",
    "wait_on_run(run=run, thread=thread)\n",
    "\n",
    "messages = client.beta.threads.messages.list(\n",
    "    thread_id=thread.id,\n",
    "    order='asc',\n",
    "    after=message.id\n",
    ")\n",
    "\n",
    "display_thread_messages(messages)"
   ]
  },
  {
   "cell_type": "code",
   "execution_count": 23,
   "id": "7d82167d-c277-4fef-bb6c-427c3046a5ba",
   "metadata": {},
   "outputs": [
    {
     "name": "stdout",
     "output_type": "stream",
     "text": [
      "MessageCreationStepDetails(message_creation=MessageCreation(message_id='msg_16YJzemPYUw8JQlwTREoS2XQ'), type='message_creation')\n",
      "ToolCallsStepDetails(tool_calls=[CodeInterpreterToolCall(id='call_BGfvQ7v2sICJQSSAEP7B4DBi', code_interpreter=CodeInterpreter(input='# New loan amount after down payment\\nnew_loan_amount = loan_amount - 200000  # $200K\\n\\n# Calculating monthly mortgage payment with new loan amount\\nnew_monthly_payment = new_loan_amount * (\\n    monthly_interest_rate * (1 + monthly_interest_rate) ** total_payments\\n) / ((1 + monthly_interest_rate) ** total_payments - 1)\\n\\nnew_monthly_payment', outputs=[]), type='code_interpreter')], type='tool_calls')\n",
      "MessageCreationStepDetails(message_creation=MessageCreation(message_id='msg_kXDTlcyZXRbUSKgJfzfiLMnI'), type='message_creation')\n"
     ]
    }
   ],
   "source": [
    "run_steps = client.beta.threads.runs.steps.list(\n",
    "    thread_id=thread.id,\n",
    "    run_id=run.id\n",
    ")\n",
    "\n",
    "for step in run_steps:\n",
    "    print(step.step_details)"
   ]
  },
  {
   "cell_type": "markdown",
   "id": "35551a30-9062-44fe-9db3-0532470ebfd4",
   "metadata": {},
   "source": [
    "## Delete Assistant"
   ]
  },
  {
   "cell_type": "code",
   "execution_count": 24,
   "id": "8563e3da-a688-4adf-ac4e-80b82397a09e",
   "metadata": {},
   "outputs": [],
   "source": [
    "response = client.beta.assistants.delete(\n",
    "    assistant_id=assistant.id\n",
    ")"
   ]
  },
  {
   "cell_type": "code",
   "execution_count": 25,
   "id": "024d80cf-fef7-4b9d-9557-6697863232a5",
   "metadata": {},
   "outputs": [
    {
     "data": {
      "text/plain": [
       "AssistantDeleted(id='asst_iF3OlwgrZ8y1NfQehaBhGgk0', deleted=True, object='assistant.deleted')"
      ]
     },
     "execution_count": 25,
     "metadata": {},
     "output_type": "execute_result"
    }
   ],
   "source": [
    "response"
   ]
  },
  {
   "cell_type": "code",
   "execution_count": null,
   "id": "3ba608e5-6b61-4e32-8ed4-8503b3d3f794",
   "metadata": {},
   "outputs": [],
   "source": []
  }
 ],
 "metadata": {
  "kernelspec": {
   "display_name": "Python 3 (ipykernel)",
   "language": "python",
   "name": "python3"
  },
  "language_info": {
   "codemirror_mode": {
    "name": "ipython",
    "version": 3
   },
   "file_extension": ".py",
   "mimetype": "text/x-python",
   "name": "python",
   "nbconvert_exporter": "python",
   "pygments_lexer": "ipython3",
   "version": "3.11.11"
  }
 },
 "nbformat": 4,
 "nbformat_minor": 5
}
