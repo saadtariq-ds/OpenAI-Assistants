{
 "cells": [
  {
   "cell_type": "code",
   "execution_count": 1,
   "id": "9771cad4-25e7-43cf-a1b5-e3cefbc14fde",
   "metadata": {},
   "outputs": [],
   "source": [
    "from openai import OpenAI\n",
    "from dotenv import load_dotenv, find_dotenv"
   ]
  },
  {
   "cell_type": "code",
   "execution_count": 2,
   "id": "93e9d479-ead6-47cc-8957-7dd19d0e14c4",
   "metadata": {},
   "outputs": [],
   "source": [
    "_ = load_dotenv(find_dotenv())"
   ]
  },
  {
   "cell_type": "code",
   "execution_count": 3,
   "id": "8009a3b9-7249-4e06-989e-bc2c9aef2f72",
   "metadata": {},
   "outputs": [],
   "source": [
    "client = OpenAI()"
   ]
  },
  {
   "cell_type": "code",
   "execution_count": 4,
   "id": "ec09c681-ed85-4e5c-98dc-d9af098d1db0",
   "metadata": {},
   "outputs": [],
   "source": [
    "response = client.chat.completions.create(\n",
    "    model='gpt-3.5-turbo',\n",
    "    messages=[\n",
    "        {'role':'system', 'content':'You are a helpful assistant'},\n",
    "        {'role':'user', 'content':'What is the capital of Italy'},\n",
    "    ]\n",
    ")"
   ]
  },
  {
   "cell_type": "code",
   "execution_count": 5,
   "id": "bad7ecbe-4f50-49dc-8dfc-641fc1815d34",
   "metadata": {},
   "outputs": [
    {
     "data": {
      "text/plain": [
       "ChatCompletion(id='chatcmpl-B8sc9vxvcaiG1MEZrmo4Q6JIUNYR5', choices=[Choice(finish_reason='stop', index=0, logprobs=None, message=ChatCompletionMessage(content='The capital of Italy is Rome.', refusal=None, role='assistant', audio=None, function_call=None, tool_calls=None))], created=1741456261, model='gpt-3.5-turbo-0125', object='chat.completion', service_tier='default', system_fingerprint=None, usage=CompletionUsage(completion_tokens=8, prompt_tokens=22, total_tokens=30, completion_tokens_details=CompletionTokensDetails(accepted_prediction_tokens=0, audio_tokens=0, reasoning_tokens=0, rejected_prediction_tokens=0), prompt_tokens_details=PromptTokensDetails(audio_tokens=0, cached_tokens=0)))"
      ]
     },
     "execution_count": 5,
     "metadata": {},
     "output_type": "execute_result"
    }
   ],
   "source": [
    "response"
   ]
  },
  {
   "cell_type": "code",
   "execution_count": 6,
   "id": "72f0d2af-c255-4553-997a-908aa385f362",
   "metadata": {},
   "outputs": [
    {
     "data": {
      "text/plain": [
       "openai.types.chat.chat_completion.ChatCompletion"
      ]
     },
     "execution_count": 6,
     "metadata": {},
     "output_type": "execute_result"
    }
   ],
   "source": [
    "type(response)"
   ]
  },
  {
   "cell_type": "code",
   "execution_count": 7,
   "id": "66f9d5db-52b7-4064-b479-3cd687f1ce51",
   "metadata": {},
   "outputs": [
    {
     "data": {
      "text/plain": [
       "[Choice(finish_reason='stop', index=0, logprobs=None, message=ChatCompletionMessage(content='The capital of Italy is Rome.', refusal=None, role='assistant', audio=None, function_call=None, tool_calls=None))]"
      ]
     },
     "execution_count": 7,
     "metadata": {},
     "output_type": "execute_result"
    }
   ],
   "source": [
    "response.choices"
   ]
  },
  {
   "cell_type": "code",
   "execution_count": 8,
   "id": "b8aada6b-12d5-46c6-872a-47f6d3b55155",
   "metadata": {},
   "outputs": [
    {
     "data": {
      "text/plain": [
       "'The capital of Italy is Rome.'"
      ]
     },
     "execution_count": 8,
     "metadata": {},
     "output_type": "execute_result"
    }
   ],
   "source": [
    "response.choices[0].message.content"
   ]
  },
  {
   "cell_type": "code",
   "execution_count": 9,
   "id": "75efa62a-bfa3-4a8f-839e-fa4f4f775f2b",
   "metadata": {},
   "outputs": [],
   "source": [
    "response = client.chat.completions.create(\n",
    "    model='gpt-3.5-turbo',\n",
    "    messages=[\n",
    "        {'role':'system', 'content':'You are a customer support agent for the company Fairchild Semiconductor'},\n",
    "        {'role':'user', 'content':'What is the capital of Italy'},\n",
    "        {'role':'assistant', 'content':'Rome. Thank you choosing Fairchild Semiconductor'},\n",
    "        {'role':'user', 'content':'What is the capital of Spain'},\n",
    "        {'role':'assistant', 'content':'Madrid. Thank you choosing Fairchild Semiconductor'},\n",
    "        {'role':'user', 'content':'What is the capital of Portugal'},\n",
    "    ]\n",
    ")"
   ]
  },
  {
   "cell_type": "code",
   "execution_count": 10,
   "id": "97256116-f4f9-4e43-a5d9-4dac664ce3ad",
   "metadata": {},
   "outputs": [
    {
     "data": {
      "text/plain": [
       "'The capital of Portugal is Lisbon. Thank you for choosing Fairchild Semiconductor.'"
      ]
     },
     "execution_count": 10,
     "metadata": {},
     "output_type": "execute_result"
    }
   ],
   "source": [
    "response.choices[0].message.content"
   ]
  },
  {
   "cell_type": "markdown",
   "id": "09a44ed8-2fdb-4c53-8ce8-3ca5ca7c4dde",
   "metadata": {},
   "source": [
    "## Message and Parameters"
   ]
  },
  {
   "cell_type": "code",
   "execution_count": 11,
   "id": "4a9b649d-4181-44a0-bd81-4c27a94fc18b",
   "metadata": {},
   "outputs": [],
   "source": [
    "response = client.chat.completions.create(\n",
    "    temperature=0,\n",
    "    model='gpt-3.5-turbo',\n",
    "    messages=[\n",
    "        {'role':'system', 'content':'You are a story teller about the future'},\n",
    "        {'role':'user', 'content':'Tell me a story'},\n",
    "    ]\n",
    ")"
   ]
  },
  {
   "cell_type": "code",
   "execution_count": 12,
   "id": "5013a517-f3a9-4537-a580-55a4be27a915",
   "metadata": {},
   "outputs": [
    {
     "name": "stdout",
     "output_type": "stream",
     "text": [
      "In the year 2150, the world had changed drastically from what we know today. Technology had advanced to unimaginable heights, with artificial intelligence and robotics playing a central role in everyday life.\n",
      "\n",
      "One day, a young girl named Luna discovered a hidden underground library filled with ancient books from the 21st century. As she flipped through the pages, she became fascinated by the stories of a world that once was, a world where people lived in harmony with nature and each other.\n",
      "\n",
      "Determined to bring back the values of compassion and empathy that seemed to have been lost in her society, Luna embarked on a journey to spread kindness and understanding wherever she went. With the help of her trusty robot companion, she traveled to different cities and villages, sharing the stories she had read and inspiring others to make a positive change in the world.\n",
      "\n",
      "As Luna's message of unity and love spread far and wide, people began to come together to create a better future for themselves and the planet. The once divided and disconnected society started to rebuild itself, with a newfound sense of community and purpose.\n",
      "\n",
      "And so, the world of 2150 was transformed by the power of storytelling, reminding people of the importance of empathy, connection, and the beauty of the human spirit. Luna's legacy lived on, inspiring generations to come to strive for a world where kindness and understanding reigned supreme.\n"
     ]
    }
   ],
   "source": [
    "print(response.choices[0].message.content)"
   ]
  },
  {
   "cell_type": "code",
   "execution_count": 13,
   "id": "3c9d0235-dcbb-444e-94cb-0d258bd76280",
   "metadata": {},
   "outputs": [],
   "source": [
    "response = client.chat.completions.create(\n",
    "    temperature=1.3,\n",
    "    model='gpt-3.5-turbo',\n",
    "    messages=[\n",
    "        {'role':'system', 'content':'You are a story teller about the future'},\n",
    "        {'role':'user', 'content':'Tell me a story'},\n",
    "    ]\n",
    ")"
   ]
  },
  {
   "cell_type": "code",
   "execution_count": 14,
   "id": "27603b4f-07a4-4d01-be66-6bb747f820b6",
   "metadata": {},
   "outputs": [
    {
     "name": "stdout",
     "output_type": "stream",
     "text": [
      "Of course! Here is a tale of the future:\n",
      "\n",
      "In a world not too far from our own, advanced technology has transformed everyday life. Cities are now bustling with flying cars, giant skyscrapers that seem to pierce the heavens, and robots that assist humans with almost every task.\n",
      "\n",
      "One day, a young girl named Luna discovered a strange object while out exploring in the ruins of an ancient city. It was a small, shimmering crystal that seemed to pulse with an otherworldly energy. Intrigued, Luna reached out to touch it, and in an instant, she was transported to a different dimension.\n",
      "\n",
      "In this new world, Luna found herself in a lush, magical land filled with talking animals, floating islands, and sparkling rivers that seemed to glow with an ethereal light. She soon realized that the crystal she had found was a doorway to other worlds, each one more enchanting than the last.\n",
      "\n",
      "As Luna traveled through these mysterious realms, she encountered beings unlike anything she had ever seen before - creatures made of pure energy, plants that sang melodious tunes, and beings that could shape reality with a mere thought.\n",
      "\n",
      "Through her adventures, Luna learned that the universe was filled with endless possibilities and that there was so much more to it than what met the eye. She also discovered that the key to unlocking these wonders lay not in technology, but in the spirit of exploration, curiosity, and a sense of wonder that resided deep within her heart.\n",
      "\n",
      "And so, Luna's journey continued, with each new world bringing new challenges, mysteries, and magical encounters. She became a beloved legend among the people of these realms, a beacon of hope and inspiration for all who believed in the power of imagination.\n",
      "\n",
      "And as she gazed up at the starlit sky from a distant planet far beyond our own, Luna knew that her journey had only just begun, with countless adventures still waiting to be discovered in the vast expanse of the cosmos. And so, she smiled, knowing that the future held endless possibilities for those brave enough to chase their dreams.\n",
      "\n",
      "The end.\n"
     ]
    }
   ],
   "source": [
    "print(response.choices[0].message.content)"
   ]
  },
  {
   "cell_type": "markdown",
   "id": "d27cbf2e-c148-4767-ac36-5d3e81e5c2e6",
   "metadata": {},
   "source": [
    "## ChatBot"
   ]
  },
  {
   "cell_type": "code",
   "execution_count": 15,
   "id": "b4cd3635-1b74-4fb6-b872-4d9615a7e87b",
   "metadata": {},
   "outputs": [
    {
     "name": "stdout",
     "output_type": "stream",
     "text": [
      "BEST BUY SUPPORT AGENT. CONNECTED! TYPE 'BYE' TO END CONVERSATION\n"
     ]
    },
    {
     "name": "stdin",
     "output_type": "stream",
     "text": [
      " What is the good GPU for deep learning\n"
     ]
    },
    {
     "name": "stdout",
     "output_type": "stream",
     "text": [
      "\n",
      "\n",
      "Reply: For deep learning applications, a powerful GPU is important to ensure efficient processing of neural networks. Some popular GPUs for deep learning include NVIDIA's Tesla V100, Titan RTX, and GeForce RTX 2080 Ti. These GPUs offer high performance, multiple cores, and large memory capacities which are essential for training complex models and handling large datasets. When selecting a GPU for deep learning, consider factors such as CUDA cores, memory capacity, and compatibility with deep learning frameworks like TensorFlow and PyTorch.\n",
      "\n",
      "\n"
     ]
    },
    {
     "name": "stdin",
     "output_type": "stream",
     "text": [
      " What is the good amount for RAM for a laptop?\n"
     ]
    },
    {
     "name": "stdout",
     "output_type": "stream",
     "text": [
      "\n",
      "\n",
      "Reply: The amount of RAM you need for a laptop depends on how you plan to use it. For general computing tasks like web browsing, word processing, and multimedia consumption, 8GB of RAM should be sufficient. However, if you plan to use your laptop for more demanding tasks like video editing, graphic design, or gaming, it is recommended to have at least 16GB of RAM to ensure smooth performance. For professionals or power users working with large datasets, running virtual machines, or using resource-intensive software like CAD programs or video editing suites, 32GB or more of RAM may be beneficial. Consider your usage needs and budget when choosing the amount of RAM for your laptop.\n",
      "\n",
      "\n"
     ]
    },
    {
     "name": "stdin",
     "output_type": "stream",
     "text": [
      " BYE\n"
     ]
    },
    {
     "name": "stdout",
     "output_type": "stream",
     "text": [
      "\n",
      "\n",
      "Reply: Goodbye! If you have any more questions in the future, feel free to reach out. Have a great day!\n",
      "\n",
      "\n"
     ]
    }
   ],
   "source": [
    "print(\"BEST BUY SUPPORT AGENT. CONNECTED! TYPE 'BYE' TO END CONVERSATION\")\n",
    "\n",
    "question = ''\n",
    "\n",
    "messages = [\n",
    "    {'role':'system', 'content':'You are a customer support agent for Best Buy and give computer advice'},\n",
    "]\n",
    "\n",
    "while question != 'BYE':\n",
    "    question = input(\"\")\n",
    "    messages.append({'role':'user', 'content': question})\n",
    "    response = client.chat.completions.create(\n",
    "        model='gpt-3.5-turbo',\n",
    "        messages=messages\n",
    "    )\n",
    "\n",
    "    reply = response.choices[0].message.content\n",
    "    print(\"\\n\")\n",
    "    print(f\"Reply: {reply}\")\n",
    "    print(\"\\n\")\n",
    "    messages.append({'role':'assistant', 'content': reply})"
   ]
  }
 ],
 "metadata": {
  "kernelspec": {
   "display_name": "Python 3 (ipykernel)",
   "language": "python",
   "name": "python3"
  },
  "language_info": {
   "codemirror_mode": {
    "name": "ipython",
    "version": 3
   },
   "file_extension": ".py",
   "mimetype": "text/x-python",
   "name": "python",
   "nbconvert_exporter": "python",
   "pygments_lexer": "ipython3",
   "version": "3.11.11"
  }
 },
 "nbformat": 4,
 "nbformat_minor": 5
}
